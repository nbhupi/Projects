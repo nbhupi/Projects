{
 "cells": [
  {
   "cell_type": "markdown",
   "id": "6ed52139",
   "metadata": {},
   "source": [
    "# IBM Employee Attrition"
   ]
  },
  {
   "cell_type": "markdown",
   "id": "5ebbbe93",
   "metadata": {},
   "source": [
    "Import attrition dataset and import libraries such as pandas, matplotlib.pyplot, numpy, and seaborn."
   ]
  },
  {
   "cell_type": "code",
   "execution_count": 1,
   "id": "28b680be",
   "metadata": {},
   "outputs": [],
   "source": [
    "#Imports required Libraries\n",
    "import pandas as pd\n",
    "import numpy as np\n",
    "\n",
    "import matplotlib.pyplot as plt\n",
    "import seaborn as sns\n",
    "%matplotlib inline"
   ]
  },
  {
   "cell_type": "code",
   "execution_count": 2,
   "id": "7d345cfd",
   "metadata": {},
   "outputs": [],
   "source": [
    "df_ibm_data = pd.read_csv(\"1576148666_ibmattritiondata\\IBM Attrition Data.csv\")"
   ]
  },
  {
   "cell_type": "code",
   "execution_count": 3,
   "id": "cfa0128a",
   "metadata": {},
   "outputs": [
    {
     "data": {
      "text/html": [
       "<div>\n",
       "<style scoped>\n",
       "    .dataframe tbody tr th:only-of-type {\n",
       "        vertical-align: middle;\n",
       "    }\n",
       "\n",
       "    .dataframe tbody tr th {\n",
       "        vertical-align: top;\n",
       "    }\n",
       "\n",
       "    .dataframe thead th {\n",
       "        text-align: right;\n",
       "    }\n",
       "</style>\n",
       "<table border=\"1\" class=\"dataframe\">\n",
       "  <thead>\n",
       "    <tr style=\"text-align: right;\">\n",
       "      <th></th>\n",
       "      <th>Age</th>\n",
       "      <th>Attrition</th>\n",
       "      <th>Department</th>\n",
       "      <th>DistanceFromHome</th>\n",
       "      <th>Education</th>\n",
       "      <th>EducationField</th>\n",
       "      <th>EnvironmentSatisfaction</th>\n",
       "      <th>JobSatisfaction</th>\n",
       "      <th>MaritalStatus</th>\n",
       "      <th>MonthlyIncome</th>\n",
       "      <th>NumCompaniesWorked</th>\n",
       "      <th>WorkLifeBalance</th>\n",
       "      <th>YearsAtCompany</th>\n",
       "    </tr>\n",
       "  </thead>\n",
       "  <tbody>\n",
       "    <tr>\n",
       "      <th>0</th>\n",
       "      <td>41</td>\n",
       "      <td>Yes</td>\n",
       "      <td>Sales</td>\n",
       "      <td>1</td>\n",
       "      <td>2</td>\n",
       "      <td>Life Sciences</td>\n",
       "      <td>2</td>\n",
       "      <td>4</td>\n",
       "      <td>Single</td>\n",
       "      <td>5993</td>\n",
       "      <td>8</td>\n",
       "      <td>1</td>\n",
       "      <td>6</td>\n",
       "    </tr>\n",
       "    <tr>\n",
       "      <th>1</th>\n",
       "      <td>49</td>\n",
       "      <td>No</td>\n",
       "      <td>Research &amp; Development</td>\n",
       "      <td>8</td>\n",
       "      <td>1</td>\n",
       "      <td>Life Sciences</td>\n",
       "      <td>3</td>\n",
       "      <td>2</td>\n",
       "      <td>Married</td>\n",
       "      <td>5130</td>\n",
       "      <td>1</td>\n",
       "      <td>3</td>\n",
       "      <td>10</td>\n",
       "    </tr>\n",
       "    <tr>\n",
       "      <th>2</th>\n",
       "      <td>37</td>\n",
       "      <td>Yes</td>\n",
       "      <td>Research &amp; Development</td>\n",
       "      <td>2</td>\n",
       "      <td>2</td>\n",
       "      <td>Other</td>\n",
       "      <td>4</td>\n",
       "      <td>3</td>\n",
       "      <td>Single</td>\n",
       "      <td>2090</td>\n",
       "      <td>6</td>\n",
       "      <td>3</td>\n",
       "      <td>0</td>\n",
       "    </tr>\n",
       "    <tr>\n",
       "      <th>3</th>\n",
       "      <td>33</td>\n",
       "      <td>No</td>\n",
       "      <td>Research &amp; Development</td>\n",
       "      <td>3</td>\n",
       "      <td>4</td>\n",
       "      <td>Life Sciences</td>\n",
       "      <td>4</td>\n",
       "      <td>3</td>\n",
       "      <td>Married</td>\n",
       "      <td>2909</td>\n",
       "      <td>1</td>\n",
       "      <td>3</td>\n",
       "      <td>8</td>\n",
       "    </tr>\n",
       "    <tr>\n",
       "      <th>4</th>\n",
       "      <td>27</td>\n",
       "      <td>No</td>\n",
       "      <td>Research &amp; Development</td>\n",
       "      <td>2</td>\n",
       "      <td>1</td>\n",
       "      <td>Medical</td>\n",
       "      <td>1</td>\n",
       "      <td>2</td>\n",
       "      <td>Married</td>\n",
       "      <td>3468</td>\n",
       "      <td>9</td>\n",
       "      <td>3</td>\n",
       "      <td>2</td>\n",
       "    </tr>\n",
       "  </tbody>\n",
       "</table>\n",
       "</div>"
      ],
      "text/plain": [
       "   Age Attrition              Department  DistanceFromHome  Education  \\\n",
       "0   41       Yes                   Sales                 1          2   \n",
       "1   49        No  Research & Development                 8          1   \n",
       "2   37       Yes  Research & Development                 2          2   \n",
       "3   33        No  Research & Development                 3          4   \n",
       "4   27        No  Research & Development                 2          1   \n",
       "\n",
       "  EducationField  EnvironmentSatisfaction  JobSatisfaction MaritalStatus  \\\n",
       "0  Life Sciences                        2                4        Single   \n",
       "1  Life Sciences                        3                2       Married   \n",
       "2          Other                        4                3        Single   \n",
       "3  Life Sciences                        4                3       Married   \n",
       "4        Medical                        1                2       Married   \n",
       "\n",
       "   MonthlyIncome  NumCompaniesWorked  WorkLifeBalance  YearsAtCompany  \n",
       "0           5993                   8                1               6  \n",
       "1           5130                   1                3              10  \n",
       "2           2090                   6                3               0  \n",
       "3           2909                   1                3               8  \n",
       "4           3468                   9                3               2  "
      ]
     },
     "execution_count": 3,
     "metadata": {},
     "output_type": "execute_result"
    }
   ],
   "source": [
    "df_ibm_data.head()"
   ]
  },
  {
   "cell_type": "code",
   "execution_count": 4,
   "id": "48235822",
   "metadata": {},
   "outputs": [
    {
     "name": "stdout",
     "output_type": "stream",
     "text": [
      "<class 'pandas.core.frame.DataFrame'>\n",
      "RangeIndex: 1470 entries, 0 to 1469\n",
      "Data columns (total 13 columns):\n",
      " #   Column                   Non-Null Count  Dtype \n",
      "---  ------                   --------------  ----- \n",
      " 0   Age                      1470 non-null   int64 \n",
      " 1   Attrition                1470 non-null   object\n",
      " 2   Department               1470 non-null   object\n",
      " 3   DistanceFromHome         1470 non-null   int64 \n",
      " 4   Education                1470 non-null   int64 \n",
      " 5   EducationField           1470 non-null   object\n",
      " 6   EnvironmentSatisfaction  1470 non-null   int64 \n",
      " 7   JobSatisfaction          1470 non-null   int64 \n",
      " 8   MaritalStatus            1470 non-null   object\n",
      " 9   MonthlyIncome            1470 non-null   int64 \n",
      " 10  NumCompaniesWorked       1470 non-null   int64 \n",
      " 11  WorkLifeBalance          1470 non-null   int64 \n",
      " 12  YearsAtCompany           1470 non-null   int64 \n",
      "dtypes: int64(9), object(4)\n",
      "memory usage: 149.4+ KB\n"
     ]
    }
   ],
   "source": [
    "df_ibm_data.info()"
   ]
  },
  {
   "cell_type": "code",
   "execution_count": 5,
   "id": "15080eff",
   "metadata": {},
   "outputs": [
    {
     "data": {
      "text/plain": [
       "(1470, 13)"
      ]
     },
     "execution_count": 5,
     "metadata": {},
     "output_type": "execute_result"
    }
   ],
   "source": [
    "df_ibm_data.shape"
   ]
  },
  {
   "cell_type": "code",
   "execution_count": 6,
   "id": "945c2f06",
   "metadata": {},
   "outputs": [
    {
     "data": {
      "text/plain": [
       "Age                        0\n",
       "Attrition                  0\n",
       "Department                 0\n",
       "DistanceFromHome           0\n",
       "Education                  0\n",
       "EducationField             0\n",
       "EnvironmentSatisfaction    0\n",
       "JobSatisfaction            0\n",
       "MaritalStatus              0\n",
       "MonthlyIncome              0\n",
       "NumCompaniesWorked         0\n",
       "WorkLifeBalance            0\n",
       "YearsAtCompany             0\n",
       "dtype: int64"
      ]
     },
     "execution_count": 6,
     "metadata": {},
     "output_type": "execute_result"
    }
   ],
   "source": [
    "df_ibm_data.isnull().sum()"
   ]
  },
  {
   "cell_type": "markdown",
   "id": "02af43ae",
   "metadata": {},
   "source": [
    "### Exploratory data analysis"
   ]
  },
  {
   "cell_type": "markdown",
   "id": "3a8a7677",
   "metadata": {},
   "source": [
    "Find the age distribution of employees in IBM"
   ]
  },
  {
   "cell_type": "code",
   "execution_count": 7,
   "id": "b831bea4",
   "metadata": {},
   "outputs": [
    {
     "name": "stdout",
     "output_type": "stream",
     "text": [
      "The minimum age of employee is 18 and the maximum age of employee is 60\n"
     ]
    }
   ],
   "source": [
    "#Check the minimum and maximum age of the Employees.\n",
    "print(\"The minimum age of employee is {min} and the maximum age of employee is {max}\".format(min=df_ibm_data.Age.min(), max=df_ibm_data.Age.max()))"
   ]
  },
  {
   "cell_type": "code",
   "execution_count": 8,
   "id": "7346cfef",
   "metadata": {},
   "outputs": [
    {
     "data": {
      "image/png": "[encoded data removed]",
      "text/plain": [
       "<Figure size 1296x504 with 1 Axes>"
      ]
     },
     "metadata": {
      "needs_background": "light"
     },
     "output_type": "display_data"
    }
   ],
   "source": [
    "import math\n",
    "plt.figure(figsize=(18,7))\n",
    "\n",
    "# of bins, N = 1 + 3.322 log10 (n)\n",
    "bins = int(round(1 + 3.322 * math.log10(df_ibm_data.shape[0]),0))\n",
    "\n",
    "freq, bins, patches = plt.hist(df_ibm_data.Age, bins=bins, edgecolor=\"black\")\n",
    "\n",
    "# x coordinate for labels\n",
    "bin_centers = np.diff(bins)*0.5 + bins[:-1]\n",
    "\n",
    "n = 0\n",
    "for fr, x, patch in zip(freq, bin_centers, patches):\n",
    "  height = int(freq[n])\n",
    "  plt.annotate(\"{}\".format(height),\n",
    "               xy = (x, height),             # top left corner of the histogram bar\n",
    "               xytext = (0,0.2),             # offsetting label position above its bar\n",
    "               textcoords = \"offset points\", # Offset (in points) from the *xy* value\n",
    "               ha = 'center', va = 'bottom'\n",
    "               )\n",
    "  n = n+1\n",
    "\n",
    "plt.title(\"Age distribution of Employees\")\n",
    "plt.xlabel(\"Age\")\n",
    "plt.ylabel(\"# of Employees\")\n",
    "plt.show()"
   ]
  },
  {
   "cell_type": "markdown",
   "id": "e49935dc",
   "metadata": {},
   "source": [
    "Explore attrition by age"
   ]
  },
  {
   "cell_type": "code",
   "execution_count": 9,
   "id": "af8534fd",
   "metadata": {},
   "outputs": [
    {
     "data": {
      "image/png": "[encoded data removed]",
      "text/plain": [
       "<Figure size 1296x504 with 1 Axes>"
      ]
     },
     "metadata": {
      "needs_background": "light"
     },
     "output_type": "display_data"
    }
   ],
   "source": [
    "plt.figure(figsize=(18,7))\n",
    "sns.histplot(data=df_ibm_data, x=\"Age\", hue=\"Attrition\", bins=bins, multiple=\"dodge\")\n",
    "plt.title(\"Attrition by Age\")\n",
    "plt.xlabel(\"Employee Age\")\n",
    "plt.ylabel(\"# of Employees\")\n",
    "plt.show()"
   ]
  },
  {
   "cell_type": "markdown",
   "id": "93490873",
   "metadata": {},
   "source": [
    "**Conclusion :**\n",
    "Employees around 20 years old have high attrition rates."
   ]
  },
  {
   "cell_type": "markdown",
   "id": "910d1294",
   "metadata": {},
   "source": [
    "Explore data for Left employees"
   ]
  },
  {
   "cell_type": "code",
   "execution_count": 10,
   "id": "e40cf95e",
   "metadata": {},
   "outputs": [
    {
     "data": {
      "image/png": "[encoded data removed]",
      "text/plain": [
       "<Figure size 1440x1440 with 12 Axes>"
      ]
     },
     "metadata": {
      "needs_background": "light"
     },
     "output_type": "display_data"
    }
   ],
   "source": [
    "df_left_employees = df_ibm_data[df_ibm_data.Attrition == \"Yes\"]\n",
    "\n",
    "plt.figure(figsize=(20, 20))\n",
    "plt.subplot(4,3,1)\n",
    "sns.histplot(data=df_left_employees, x=\"Age\")\n",
    "plt.title(\"Distribution by Age\")\n",
    "plt.ylabel(\"# of Employees\")\n",
    "\n",
    "plt.subplot(4,3,2)\n",
    "sns.histplot(data=df_left_employees, x=\"Department\", )\n",
    "plt.title(\"Distribution by Department\")\n",
    "plt.ylabel(\"# of Employees\")\n",
    "\n",
    "plt.subplot(4,3,3)\n",
    "sns.histplot(data=df_left_employees, x=\"Education\")\n",
    "plt.title(\"Distribution by Education\")\n",
    "plt.ylabel(\"# of Employees\")\n",
    "\n",
    "plt.subplot(4,3,4)\n",
    "sns.histplot(data=df_left_employees, x=\"DistanceFromHome\")\n",
    "plt.title(\"Distribution by Distance From Home\")\n",
    "plt.ylabel(\"# of Employees\")\n",
    "\n",
    "plt.subplot(4,3,5)\n",
    "sns.histplot(data=df_left_employees, x=\"JobSatisfaction\")\n",
    "plt.title(\"Distribution by JobSatisfaction\")\n",
    "plt.ylabel(\"# of Employees\")\n",
    "\n",
    "plt.subplot(4,3,6)\n",
    "sns.histplot(data=df_left_employees, x=\"EnvironmentSatisfaction\")\n",
    "plt.title(\"Distribution by Environment Satisfaction\")\n",
    "plt.ylabel(\"# of Employees\")\n",
    "\n",
    "plt.subplot(4,3,7)\n",
    "sns.histplot(data=df_left_employees, x=\"EducationField\")\n",
    "plt.title(\"Distribution by Education Field\")\n",
    "plt.ylabel(\"# of Employees\")\n",
    "\n",
    "plt.subplot(4,3,8)\n",
    "sns.histplot(data=df_left_employees, x=\"MaritalStatus\")\n",
    "plt.title(\"Distribution by MaritalStatus\")\n",
    "plt.ylabel(\"# of Employees\")\n",
    "\n",
    "plt.subplot(4,3,9)\n",
    "sns.histplot(data=df_left_employees, x=\"MonthlyIncome\")\n",
    "plt.title(\"Distribution by MonthlyIncome\")\n",
    "plt.ylabel(\"# of Employees\")\n",
    "\n",
    "plt.subplot(4,3,10)\n",
    "sns.histplot(data=df_left_employees, x=\"NumCompaniesWorked\")\n",
    "plt.title(\"Distribution by # of companies worked by Employee previously\")\n",
    "plt.ylabel(\"# of Employees\")\n",
    "\n",
    "plt.subplot(4,3,11)\n",
    "sns.histplot(data=df_left_employees, x=\"WorkLifeBalance\")\n",
    "plt.title(\"Distribution by WorkLifeBalance\")\n",
    "plt.ylabel(\"# of Employees\")\n",
    "\n",
    "plt.subplot(4,3,12)\n",
    "sns.histplot(data=df_left_employees, x=\"YearsAtCompany\")\n",
    "plt.title(\"Distribution by YearsAtCompany\")\n",
    "plt.ylabel(\"# of Employees\")\n",
    "\n",
    "plt.show()"
   ]
  },
  {
   "cell_type": "markdown",
   "id": "d41dab3a",
   "metadata": {},
   "source": [
    "Find out the distribution of employees by the education field"
   ]
  },
  {
   "cell_type": "code",
   "execution_count": 11,
   "id": "f664b6e7",
   "metadata": {},
   "outputs": [
    {
     "data": {
      "image/png": "[encoded data removed]",
      "text/plain": [
       "<Figure size 1440x504 with 1 Axes>"
      ]
     },
     "metadata": {
      "needs_background": "light"
     },
     "output_type": "display_data"
    }
   ],
   "source": [
    "plt.figure(figsize=(20, 7))\n",
    "sns.histplot(data=df_ibm_data, x=\"EducationField\")\n",
    "plt.title(\"Distribution by Education Field\")\n",
    "plt.xlabel(\"Education Field\")\n",
    "plt.ylabel(\"# of Employees\")\n",
    "plt.show()"
   ]
  },
  {
   "cell_type": "markdown",
   "id": "1dcedcb5",
   "metadata": {},
   "source": [
    "Give a bar chart for the number of married and unmarried employees"
   ]
  },
  {
   "cell_type": "code",
   "execution_count": 12,
   "id": "872a4476",
   "metadata": {},
   "outputs": [
    {
     "data": {
      "image/png": "[encoded data removed]",
      "text/plain": [
       "<Figure size 432x288 with 1 Axes>"
      ]
     },
     "metadata": {
      "needs_background": "light"
     },
     "output_type": "display_data"
    }
   ],
   "source": [
    "df_ibm_data.MaritalStatus.value_counts().plot(kind='bar')\n",
    "plt.title(\"Distribution by MaritalStatus\")\n",
    "plt.xlabel(\"Marital Status\")\n",
    "plt.ylabel(\"# of Employees\")\n",
    "plt.show()"
   ]
  },
  {
   "cell_type": "markdown",
   "id": "cb4ad7e3",
   "metadata": {},
   "source": [
    "Build up a logistic regression model to predict which employees are likely to attrite."
   ]
  },
  {
   "cell_type": "code",
   "execution_count": 13,
   "id": "53eddc2f",
   "metadata": {},
   "outputs": [
    {
     "data": {
      "text/html": [
       "<div>\n",
       "<style scoped>\n",
       "    .dataframe tbody tr th:only-of-type {\n",
       "        vertical-align: middle;\n",
       "    }\n",
       "\n",
       "    .dataframe tbody tr th {\n",
       "        vertical-align: top;\n",
       "    }\n",
       "\n",
       "    .dataframe thead th {\n",
       "        text-align: right;\n",
       "    }\n",
       "</style>\n",
       "<table border=\"1\" class=\"dataframe\">\n",
       "  <thead>\n",
       "    <tr style=\"text-align: right;\">\n",
       "      <th></th>\n",
       "      <th>Age</th>\n",
       "      <th>Attrition</th>\n",
       "      <th>Department</th>\n",
       "      <th>DistanceFromHome</th>\n",
       "      <th>Education</th>\n",
       "      <th>EducationField</th>\n",
       "      <th>EnvironmentSatisfaction</th>\n",
       "      <th>JobSatisfaction</th>\n",
       "      <th>MaritalStatus</th>\n",
       "      <th>MonthlyIncome</th>\n",
       "      <th>NumCompaniesWorked</th>\n",
       "      <th>WorkLifeBalance</th>\n",
       "      <th>YearsAtCompany</th>\n",
       "    </tr>\n",
       "  </thead>\n",
       "  <tbody>\n",
       "    <tr>\n",
       "      <th>0</th>\n",
       "      <td>41</td>\n",
       "      <td>Yes</td>\n",
       "      <td>Sales</td>\n",
       "      <td>1</td>\n",
       "      <td>2</td>\n",
       "      <td>Life Sciences</td>\n",
       "      <td>2</td>\n",
       "      <td>4</td>\n",
       "      <td>Single</td>\n",
       "      <td>5993</td>\n",
       "      <td>8</td>\n",
       "      <td>1</td>\n",
       "      <td>6</td>\n",
       "    </tr>\n",
       "    <tr>\n",
       "      <th>1</th>\n",
       "      <td>49</td>\n",
       "      <td>No</td>\n",
       "      <td>Research &amp; Development</td>\n",
       "      <td>8</td>\n",
       "      <td>1</td>\n",
       "      <td>Life Sciences</td>\n",
       "      <td>3</td>\n",
       "      <td>2</td>\n",
       "      <td>Married</td>\n",
       "      <td>5130</td>\n",
       "      <td>1</td>\n",
       "      <td>3</td>\n",
       "      <td>10</td>\n",
       "    </tr>\n",
       "    <tr>\n",
       "      <th>2</th>\n",
       "      <td>37</td>\n",
       "      <td>Yes</td>\n",
       "      <td>Research &amp; Development</td>\n",
       "      <td>2</td>\n",
       "      <td>2</td>\n",
       "      <td>Other</td>\n",
       "      <td>4</td>\n",
       "      <td>3</td>\n",
       "      <td>Single</td>\n",
       "      <td>2090</td>\n",
       "      <td>6</td>\n",
       "      <td>3</td>\n",
       "      <td>0</td>\n",
       "    </tr>\n",
       "    <tr>\n",
       "      <th>3</th>\n",
       "      <td>33</td>\n",
       "      <td>No</td>\n",
       "      <td>Research &amp; Development</td>\n",
       "      <td>3</td>\n",
       "      <td>4</td>\n",
       "      <td>Life Sciences</td>\n",
       "      <td>4</td>\n",
       "      <td>3</td>\n",
       "      <td>Married</td>\n",
       "      <td>2909</td>\n",
       "      <td>1</td>\n",
       "      <td>3</td>\n",
       "      <td>8</td>\n",
       "    </tr>\n",
       "    <tr>\n",
       "      <th>4</th>\n",
       "      <td>27</td>\n",
       "      <td>No</td>\n",
       "      <td>Research &amp; Development</td>\n",
       "      <td>2</td>\n",
       "      <td>1</td>\n",
       "      <td>Medical</td>\n",
       "      <td>1</td>\n",
       "      <td>2</td>\n",
       "      <td>Married</td>\n",
       "      <td>3468</td>\n",
       "      <td>9</td>\n",
       "      <td>3</td>\n",
       "      <td>2</td>\n",
       "    </tr>\n",
       "  </tbody>\n",
       "</table>\n",
       "</div>"
      ],
      "text/plain": [
       "   Age Attrition              Department  DistanceFromHome  Education  \\\n",
       "0   41       Yes                   Sales                 1          2   \n",
       "1   49        No  Research & Development                 8          1   \n",
       "2   37       Yes  Research & Development                 2          2   \n",
       "3   33        No  Research & Development                 3          4   \n",
       "4   27        No  Research & Development                 2          1   \n",
       "\n",
       "  EducationField  EnvironmentSatisfaction  JobSatisfaction MaritalStatus  \\\n",
       "0  Life Sciences                        2                4        Single   \n",
       "1  Life Sciences                        3                2       Married   \n",
       "2          Other                        4                3        Single   \n",
       "3  Life Sciences                        4                3       Married   \n",
       "4        Medical                        1                2       Married   \n",
       "\n",
       "   MonthlyIncome  NumCompaniesWorked  WorkLifeBalance  YearsAtCompany  \n",
       "0           5993                   8                1               6  \n",
       "1           5130                   1                3              10  \n",
       "2           2090                   6                3               0  \n",
       "3           2909                   1                3               8  \n",
       "4           3468                   9                3               2  "
      ]
     },
     "execution_count": 13,
     "metadata": {},
     "output_type": "execute_result"
    }
   ],
   "source": [
    "df_ibm_data.head()"
   ]
  },
  {
   "cell_type": "code",
   "execution_count": 14,
   "id": "9aebe488",
   "metadata": {},
   "outputs": [],
   "source": [
    "# building up a logistic regression model\n",
    "X = df_ibm_data.drop(['Attrition'],axis=1)\n",
    "y = df_ibm_data[['Attrition']]"
   ]
  },
  {
   "cell_type": "code",
   "execution_count": 15,
   "id": "16a29048",
   "metadata": {},
   "outputs": [
    {
     "name": "stderr",
     "output_type": "stream",
     "text": [
      "C:\\Users\\nbhup\\anaconda3\\lib\\site-packages\\pandas\\core\\series.py:4509: SettingWithCopyWarning: \n",
      "A value is trying to be set on a copy of a slice from a DataFrame\n",
      "\n",
      "See the caveats in the documentation: https://pandas.pydata.org/pandas-docs/stable/user_guide/indexing.html#returning-a-view-versus-a-copy\n",
      "  return super().replace(\n"
     ]
    }
   ],
   "source": [
    "y.Attrition.replace([\"Yes\", \"No\"], [1, 0], inplace=True)"
   ]
  },
  {
   "cell_type": "code",
   "execution_count": 16,
   "id": "5a484d37",
   "metadata": {},
   "outputs": [],
   "source": [
    "y = np.ravel(y)"
   ]
  },
  {
   "cell_type": "code",
   "execution_count": 17,
   "id": "d4465294",
   "metadata": {},
   "outputs": [],
   "source": [
    "categorical_features = [\"Department\", \"EducationField\", \"MaritalStatus\"]"
   ]
  },
  {
   "cell_type": "code",
   "execution_count": 18,
   "id": "2044af9c",
   "metadata": {},
   "outputs": [],
   "source": [
    "df_encoded_X = pd.get_dummies( X,\n",
    "                               columns = categorical_features,\n",
    "                               drop_first = True )"
   ]
  },
  {
   "cell_type": "code",
   "execution_count": 19,
   "id": "c86fa54c",
   "metadata": {},
   "outputs": [
    {
     "data": {
      "text/html": [
       "<div>\n",
       "<style scoped>\n",
       "    .dataframe tbody tr th:only-of-type {\n",
       "        vertical-align: middle;\n",
       "    }\n",
       "\n",
       "    .dataframe tbody tr th {\n",
       "        vertical-align: top;\n",
       "    }\n",
       "\n",
       "    .dataframe thead th {\n",
       "        text-align: right;\n",
       "    }\n",
       "</style>\n",
       "<table border=\"1\" class=\"dataframe\">\n",
       "  <thead>\n",
       "    <tr style=\"text-align: right;\">\n",
       "      <th></th>\n",
       "      <th>Age</th>\n",
       "      <th>DistanceFromHome</th>\n",
       "      <th>Education</th>\n",
       "      <th>EnvironmentSatisfaction</th>\n",
       "      <th>JobSatisfaction</th>\n",
       "      <th>MonthlyIncome</th>\n",
       "      <th>NumCompaniesWorked</th>\n",
       "      <th>WorkLifeBalance</th>\n",
       "      <th>YearsAtCompany</th>\n",
       "      <th>Department_Research &amp; Development</th>\n",
       "      <th>Department_Sales</th>\n",
       "      <th>EducationField_Life Sciences</th>\n",
       "      <th>EducationField_Marketing</th>\n",
       "      <th>EducationField_Medical</th>\n",
       "      <th>EducationField_Other</th>\n",
       "      <th>EducationField_Technical Degree</th>\n",
       "      <th>MaritalStatus_Married</th>\n",
       "      <th>MaritalStatus_Single</th>\n",
       "    </tr>\n",
       "  </thead>\n",
       "  <tbody>\n",
       "    <tr>\n",
       "      <th>0</th>\n",
       "      <td>41</td>\n",
       "      <td>1</td>\n",
       "      <td>2</td>\n",
       "      <td>2</td>\n",
       "      <td>4</td>\n",
       "      <td>5993</td>\n",
       "      <td>8</td>\n",
       "      <td>1</td>\n",
       "      <td>6</td>\n",
       "      <td>0</td>\n",
       "      <td>1</td>\n",
       "      <td>1</td>\n",
       "      <td>0</td>\n",
       "      <td>0</td>\n",
       "      <td>0</td>\n",
       "      <td>0</td>\n",
       "      <td>0</td>\n",
       "      <td>1</td>\n",
       "    </tr>\n",
       "    <tr>\n",
       "      <th>1</th>\n",
       "      <td>49</td>\n",
       "      <td>8</td>\n",
       "      <td>1</td>\n",
       "      <td>3</td>\n",
       "      <td>2</td>\n",
       "      <td>5130</td>\n",
       "      <td>1</td>\n",
       "      <td>3</td>\n",
       "      <td>10</td>\n",
       "      <td>1</td>\n",
       "      <td>0</td>\n",
       "      <td>1</td>\n",
       "      <td>0</td>\n",
       "      <td>0</td>\n",
       "      <td>0</td>\n",
       "      <td>0</td>\n",
       "      <td>1</td>\n",
       "      <td>0</td>\n",
       "    </tr>\n",
       "    <tr>\n",
       "      <th>2</th>\n",
       "      <td>37</td>\n",
       "      <td>2</td>\n",
       "      <td>2</td>\n",
       "      <td>4</td>\n",
       "      <td>3</td>\n",
       "      <td>2090</td>\n",
       "      <td>6</td>\n",
       "      <td>3</td>\n",
       "      <td>0</td>\n",
       "      <td>1</td>\n",
       "      <td>0</td>\n",
       "      <td>0</td>\n",
       "      <td>0</td>\n",
       "      <td>0</td>\n",
       "      <td>1</td>\n",
       "      <td>0</td>\n",
       "      <td>0</td>\n",
       "      <td>1</td>\n",
       "    </tr>\n",
       "    <tr>\n",
       "      <th>3</th>\n",
       "      <td>33</td>\n",
       "      <td>3</td>\n",
       "      <td>4</td>\n",
       "      <td>4</td>\n",
       "      <td>3</td>\n",
       "      <td>2909</td>\n",
       "      <td>1</td>\n",
       "      <td>3</td>\n",
       "      <td>8</td>\n",
       "      <td>1</td>\n",
       "      <td>0</td>\n",
       "      <td>1</td>\n",
       "      <td>0</td>\n",
       "      <td>0</td>\n",
       "      <td>0</td>\n",
       "      <td>0</td>\n",
       "      <td>1</td>\n",
       "      <td>0</td>\n",
       "    </tr>\n",
       "    <tr>\n",
       "      <th>4</th>\n",
       "      <td>27</td>\n",
       "      <td>2</td>\n",
       "      <td>1</td>\n",
       "      <td>1</td>\n",
       "      <td>2</td>\n",
       "      <td>3468</td>\n",
       "      <td>9</td>\n",
       "      <td>3</td>\n",
       "      <td>2</td>\n",
       "      <td>1</td>\n",
       "      <td>0</td>\n",
       "      <td>0</td>\n",
       "      <td>0</td>\n",
       "      <td>1</td>\n",
       "      <td>0</td>\n",
       "      <td>0</td>\n",
       "      <td>1</td>\n",
       "      <td>0</td>\n",
       "    </tr>\n",
       "  </tbody>\n",
       "</table>\n",
       "</div>"
      ],
      "text/plain": [
       "   Age  DistanceFromHome  Education  EnvironmentSatisfaction  JobSatisfaction  \\\n",
       "0   41                 1          2                        2                4   \n",
       "1   49                 8          1                        3                2   \n",
       "2   37                 2          2                        4                3   \n",
       "3   33                 3          4                        4                3   \n",
       "4   27                 2          1                        1                2   \n",
       "\n",
       "   MonthlyIncome  NumCompaniesWorked  WorkLifeBalance  YearsAtCompany  \\\n",
       "0           5993                   8                1               6   \n",
       "1           5130                   1                3              10   \n",
       "2           2090                   6                3               0   \n",
       "3           2909                   1                3               8   \n",
       "4           3468                   9                3               2   \n",
       "\n",
       "   Department_Research & Development  Department_Sales  \\\n",
       "0                                  0                 1   \n",
       "1                                  1                 0   \n",
       "2                                  1                 0   \n",
       "3                                  1                 0   \n",
       "4                                  1                 0   \n",
       "\n",
       "   EducationField_Life Sciences  EducationField_Marketing  \\\n",
       "0                             1                         0   \n",
       "1                             1                         0   \n",
       "2                             0                         0   \n",
       "3                             1                         0   \n",
       "4                             0                         0   \n",
       "\n",
       "   EducationField_Medical  EducationField_Other  \\\n",
       "0                       0                     0   \n",
       "1                       0                     0   \n",
       "2                       0                     1   \n",
       "3                       0                     0   \n",
       "4                       1                     0   \n",
       "\n",
       "   EducationField_Technical Degree  MaritalStatus_Married  \\\n",
       "0                                0                      0   \n",
       "1                                0                      1   \n",
       "2                                0                      0   \n",
       "3                                0                      1   \n",
       "4                                0                      1   \n",
       "\n",
       "   MaritalStatus_Single  \n",
       "0                     1  \n",
       "1                     0  \n",
       "2                     1  \n",
       "3                     0  \n",
       "4                     0  "
      ]
     },
     "execution_count": 19,
     "metadata": {},
     "output_type": "execute_result"
    }
   ],
   "source": [
    "df_encoded_X.head()"
   ]
  },
  {
   "cell_type": "code",
   "execution_count": 20,
   "id": "48dcbf5b",
   "metadata": {},
   "outputs": [],
   "source": [
    "from sklearn.model_selection import train_test_split"
   ]
  },
  {
   "cell_type": "code",
   "execution_count": 21,
   "id": "eb488dd1",
   "metadata": {},
   "outputs": [],
   "source": [
    "X_train, X_test, y_train, y_test = train_test_split(df_encoded_X, y, test_size=0.2, random_state=0)"
   ]
  },
  {
   "cell_type": "code",
   "execution_count": 22,
   "id": "54214aa0",
   "metadata": {},
   "outputs": [
    {
     "data": {
      "text/plain": [
       "((1176, 18), (1176,), (294, 18), (294,))"
      ]
     },
     "execution_count": 22,
     "metadata": {},
     "output_type": "execute_result"
    }
   ],
   "source": [
    "X_train.shape, y_train.shape, X_test.shape, y_test.shape"
   ]
  },
  {
   "cell_type": "code",
   "execution_count": 23,
   "id": "9901a832",
   "metadata": {},
   "outputs": [],
   "source": [
    "from sklearn.linear_model import LogisticRegression"
   ]
  },
  {
   "cell_type": "code",
   "execution_count": 24,
   "id": "7744698e",
   "metadata": {},
   "outputs": [],
   "source": [
    "LR_model = LogisticRegression(max_iter=1000)"
   ]
  },
  {
   "cell_type": "code",
   "execution_count": 25,
   "id": "93be31ee",
   "metadata": {},
   "outputs": [
    {
     "data": {
      "text/plain": [
       "LogisticRegression(max_iter=1000)"
      ]
     },
     "execution_count": 25,
     "metadata": {},
     "output_type": "execute_result"
    }
   ],
   "source": [
    "LR_model.fit(X_train, y_train)"
   ]
  },
  {
   "cell_type": "code",
   "execution_count": 26,
   "id": "c3bf23f0",
   "metadata": {},
   "outputs": [
    {
     "data": {
      "text/plain": [
       "0.8554421768707483"
      ]
     },
     "execution_count": 26,
     "metadata": {},
     "output_type": "execute_result"
    }
   ],
   "source": [
    "LR_model.score(X_train, y_train)"
   ]
  },
  {
   "cell_type": "code",
   "execution_count": 27,
   "id": "b18b2291",
   "metadata": {},
   "outputs": [
    {
     "name": "stdout",
     "output_type": "stream",
     "text": [
      "[0 0 0 0 0 0 0 0 0 0 0 0 0 0 0 0 0 0 0 0 0 0 0 0 0 0 0 0 0 0 0 0 0 0 0 0 0\n",
      " 0 0 0 0 0 0 0 0 0 0 0 0 0 0 1 0 0 0 0 0 0 0 0 0 0 0 0 0 0 0 0 0 0 0 0 0 0\n",
      " 0 0 0 0 0 0 0 0 0 0 0 0 0 0 0 0 0 0 0 0 0 0 0 0 0 0 0 0 0 0 0 0 0 0 0 0 0\n",
      " 0 0 0 0 0 0 0 0 0 0 0 0 0 0 0 0 0 0 0 0 0 0 0 0 0 0 0 0 0 0 0 0 0 0 0 0 0\n",
      " 0 0 0 0 0 0 0 0 0 0 0 0 0 0 0 0 0 0 0 0 0 0 0 0 0 0 0 0 0 0 0 0 0 0 0 0 0\n",
      " 0 1 0 0 0 0 0 0 0 0 0 0 0 0 0 0 0 0 0 0 0 0 0 0 0 0 0 0 0 0 0 0 0 0 0 0 0\n",
      " 0 0 0 0 0 0 0 0 0 0 0 0 0 0 0 0 0 0 0 0 0 0 0 0 0 0 0 0 0 0 1 0 0 0 0 0 1\n",
      " 0 0 0 0 0 0 0 0 0 0 0 0 0 0 0 0 0 0 0 0 0 0 0 0 0 0 0 0 0 0 0 0 0 0 0]\n"
     ]
    }
   ],
   "source": [
    "predicted = LR_model.predict(X_test)\n",
    "print (predicted)"
   ]
  },
  {
   "cell_type": "code",
   "execution_count": 28,
   "id": "c9135daa",
   "metadata": {},
   "outputs": [
    {
     "name": "stdout",
     "output_type": "stream",
     "text": [
      "[[0.87078106 0.12921894]\n",
      " [0.74209866 0.25790134]\n",
      " [0.79308657 0.20691343]\n",
      " [0.83577645 0.16422355]\n",
      " [0.72120321 0.27879679]\n",
      " [0.93389766 0.06610234]\n",
      " [0.69310439 0.30689561]\n",
      " [0.54555062 0.45444938]\n",
      " [0.97802238 0.02197762]\n",
      " [0.83051177 0.16948823]\n",
      " [0.98636693 0.01363307]\n",
      " [0.73847821 0.26152179]\n",
      " [0.9686467  0.0313533 ]\n",
      " [0.55859723 0.44140277]\n",
      " [0.94093546 0.05906454]\n",
      " [0.94698157 0.05301843]\n",
      " [0.87702701 0.12297299]\n",
      " [0.91727216 0.08272784]\n",
      " [0.87988707 0.12011293]\n",
      " [0.6725186  0.3274814 ]\n",
      " [0.61457077 0.38542923]\n",
      " [0.97478616 0.02521384]\n",
      " [0.94083785 0.05916215]\n",
      " [0.92982474 0.07017526]\n",
      " [0.51076217 0.48923783]\n",
      " [0.80647124 0.19352876]\n",
      " [0.83469937 0.16530063]\n",
      " [0.96998093 0.03001907]\n",
      " [0.6244521  0.3755479 ]\n",
      " [0.86967145 0.13032855]\n",
      " [0.88102898 0.11897102]\n",
      " [0.83383465 0.16616535]\n",
      " [0.89248256 0.10751744]\n",
      " [0.93599316 0.06400684]\n",
      " [0.95822318 0.04177682]\n",
      " [0.96353036 0.03646964]\n",
      " [0.9139752  0.0860248 ]\n",
      " [0.81093519 0.18906481]\n",
      " [0.93825508 0.06174492]\n",
      " [0.86634886 0.13365114]\n",
      " [0.86034372 0.13965628]\n",
      " [0.94904728 0.05095272]\n",
      " [0.97007121 0.02992879]\n",
      " [0.95876831 0.04123169]\n",
      " [0.93663295 0.06336705]\n",
      " [0.69866253 0.30133747]\n",
      " [0.71282573 0.28717427]\n",
      " [0.9613617  0.0386383 ]\n",
      " [0.60632484 0.39367516]\n",
      " [0.87202333 0.12797667]\n",
      " [0.96853435 0.03146565]\n",
      " [0.44168249 0.55831751]\n",
      " [0.92335126 0.07664874]\n",
      " [0.74539236 0.25460764]\n",
      " [0.73529774 0.26470226]\n",
      " [0.73944657 0.26055343]\n",
      " [0.9190127  0.0809873 ]\n",
      " [0.83842047 0.16157953]\n",
      " [0.94472812 0.05527188]\n",
      " [0.64412311 0.35587689]\n",
      " [0.90672043 0.09327957]\n",
      " [0.72047014 0.27952986]\n",
      " [0.86830204 0.13169796]\n",
      " [0.91492653 0.08507347]\n",
      " [0.85515771 0.14484229]\n",
      " [0.93159409 0.06840591]\n",
      " [0.92579055 0.07420945]\n",
      " [0.6857487  0.3142513 ]\n",
      " [0.86115851 0.13884149]\n",
      " [0.70652616 0.29347384]\n",
      " [0.85890747 0.14109253]\n",
      " [0.83934665 0.16065335]\n",
      " [0.90048966 0.09951034]\n",
      " [0.86574244 0.13425756]\n",
      " [0.71754171 0.28245829]\n",
      " [0.87411974 0.12588026]\n",
      " [0.88113496 0.11886504]\n",
      " [0.97345033 0.02654967]\n",
      " [0.72217658 0.27782342]\n",
      " [0.83490201 0.16509799]\n",
      " [0.97478236 0.02521764]\n",
      " [0.8264928  0.1735072 ]\n",
      " [0.74567312 0.25432688]\n",
      " [0.95322482 0.04677518]\n",
      " [0.94968682 0.05031318]\n",
      " [0.78787892 0.21212108]\n",
      " [0.95974371 0.04025629]\n",
      " [0.91037467 0.08962533]\n",
      " [0.92739319 0.07260681]\n",
      " [0.82047982 0.17952018]\n",
      " [0.50021539 0.49978461]\n",
      " [0.79836473 0.20163527]\n",
      " [0.59061794 0.40938206]\n",
      " [0.66550486 0.33449514]\n",
      " [0.96039421 0.03960579]\n",
      " [0.67953655 0.32046345]\n",
      " [0.53827001 0.46172999]\n",
      " [0.78225553 0.21774447]\n",
      " [0.91567499 0.08432501]\n",
      " [0.89557686 0.10442314]\n",
      " [0.72560243 0.27439757]\n",
      " [0.69783615 0.30216385]\n",
      " [0.97698358 0.02301642]\n",
      " [0.90761578 0.09238422]\n",
      " [0.8951596  0.1048404 ]\n",
      " [0.96437829 0.03562171]\n",
      " [0.87261653 0.12738347]\n",
      " [0.69618065 0.30381935]\n",
      " [0.84661366 0.15338634]\n",
      " [0.92273301 0.07726699]\n",
      " [0.73504017 0.26495983]\n",
      " [0.98194652 0.01805348]\n",
      " [0.97846463 0.02153537]\n",
      " [0.85277383 0.14722617]\n",
      " [0.76519846 0.23480154]\n",
      " [0.88832612 0.11167388]\n",
      " [0.92226128 0.07773872]\n",
      " [0.93637117 0.06362883]\n",
      " [0.9824525  0.0175475 ]\n",
      " [0.96341586 0.03658414]\n",
      " [0.71186665 0.28813335]\n",
      " [0.92110058 0.07889942]\n",
      " [0.89387062 0.10612938]\n",
      " [0.55545236 0.44454764]\n",
      " [0.95653958 0.04346042]\n",
      " [0.98273137 0.01726863]\n",
      " [0.97826716 0.02173284]\n",
      " [0.80753688 0.19246312]\n",
      " [0.85473863 0.14526137]\n",
      " [0.96140221 0.03859779]\n",
      " [0.97891067 0.02108933]\n",
      " [0.65458664 0.34541336]\n",
      " [0.73171867 0.26828133]\n",
      " [0.61424588 0.38575412]\n",
      " [0.9312264  0.0687736 ]\n",
      " [0.83627336 0.16372664]\n",
      " [0.6834024  0.3165976 ]\n",
      " [0.87945733 0.12054267]\n",
      " [0.71369058 0.28630942]\n",
      " [0.83265167 0.16734833]\n",
      " [0.96717152 0.03282848]\n",
      " [0.91693743 0.08306257]\n",
      " [0.88344223 0.11655777]\n",
      " [0.95922574 0.04077426]\n",
      " [0.78905196 0.21094804]\n",
      " [0.92534033 0.07465967]\n",
      " [0.97939462 0.02060538]\n",
      " [0.9873536  0.0126464 ]\n",
      " [0.97398908 0.02601092]\n",
      " [0.76597118 0.23402882]\n",
      " [0.94445793 0.05554207]\n",
      " [0.91093723 0.08906277]\n",
      " [0.86483189 0.13516811]\n",
      " [0.92497298 0.07502702]\n",
      " [0.88410197 0.11589803]\n",
      " [0.95316836 0.04683164]\n",
      " [0.98209551 0.01790449]\n",
      " [0.71704639 0.28295361]\n",
      " [0.84366711 0.15633289]\n",
      " [0.95187486 0.04812514]\n",
      " [0.90759093 0.09240907]\n",
      " [0.94669866 0.05330134]\n",
      " [0.79637263 0.20362737]\n",
      " [0.50808119 0.49191881]\n",
      " [0.98191224 0.01808776]\n",
      " [0.79550079 0.20449921]\n",
      " [0.9053239  0.0946761 ]\n",
      " [0.83765904 0.16234096]\n",
      " [0.90253921 0.09746079]\n",
      " [0.98998401 0.01001599]\n",
      " [0.89076776 0.10923224]\n",
      " [0.90548398 0.09451602]\n",
      " [0.92951568 0.07048432]\n",
      " [0.75024235 0.24975765]\n",
      " [0.97270715 0.02729285]\n",
      " [0.80978506 0.19021494]\n",
      " [0.9445544  0.0554456 ]\n",
      " [0.94827201 0.05172799]\n",
      " [0.86919449 0.13080551]\n",
      " [0.95698773 0.04301227]\n",
      " [0.87486418 0.12513582]\n",
      " [0.96522932 0.03477068]\n",
      " [0.98597222 0.01402778]\n",
      " [0.53283507 0.46716493]\n",
      " [0.90039432 0.09960568]\n",
      " [0.88740978 0.11259022]\n",
      " [0.38430493 0.61569507]\n",
      " [0.87693805 0.12306195]\n",
      " [0.83550342 0.16449658]\n",
      " [0.77808141 0.22191859]\n",
      " [0.54623031 0.45376969]\n",
      " [0.82574863 0.17425137]\n",
      " [0.93480152 0.06519848]\n",
      " [0.83498926 0.16501074]\n",
      " [0.93658471 0.06341529]\n",
      " [0.93350776 0.06649224]\n",
      " [0.8733202  0.1266798 ]\n",
      " [0.88009266 0.11990734]\n",
      " [0.87655326 0.12344674]\n",
      " [0.88093667 0.11906333]\n",
      " [0.80040763 0.19959237]\n",
      " [0.80823797 0.19176203]\n",
      " [0.66167811 0.33832189]\n",
      " [0.86796787 0.13203213]\n",
      " [0.74896534 0.25103466]\n",
      " [0.8183162  0.1816838 ]\n",
      " [0.85962393 0.14037607]\n",
      " [0.99269755 0.00730245]\n",
      " [0.74823002 0.25176998]\n",
      " [0.95704513 0.04295487]\n",
      " [0.81907375 0.18092625]\n",
      " [0.7554676  0.2445324 ]\n",
      " [0.88325125 0.11674875]\n",
      " [0.67756007 0.32243993]\n",
      " [0.93652633 0.06347367]\n",
      " [0.9469843  0.0530157 ]\n",
      " [0.93914562 0.06085438]\n",
      " [0.96203635 0.03796365]\n",
      " [0.93920501 0.06079499]\n",
      " [0.82682987 0.17317013]\n",
      " [0.80242905 0.19757095]\n",
      " [0.72970139 0.27029861]\n",
      " [0.64458837 0.35541163]\n",
      " [0.99552532 0.00447468]\n",
      " [0.79337367 0.20662633]\n",
      " [0.95839511 0.04160489]\n",
      " [0.79977805 0.20022195]\n",
      " [0.8642068  0.1357932 ]\n",
      " [0.59414942 0.40585058]\n",
      " [0.90242529 0.09757471]\n",
      " [0.9936567  0.0063433 ]\n",
      " [0.87198746 0.12801254]\n",
      " [0.90083059 0.09916941]\n",
      " [0.96783447 0.03216553]\n",
      " [0.92547711 0.07452289]\n",
      " [0.85150799 0.14849201]\n",
      " [0.79927041 0.20072959]\n",
      " [0.94342582 0.05657418]\n",
      " [0.84735589 0.15264411]\n",
      " [0.94285742 0.05714258]\n",
      " [0.94627195 0.05372805]\n",
      " [0.78160862 0.21839138]\n",
      " [0.98578345 0.01421655]\n",
      " [0.89277196 0.10722804]\n",
      " [0.91013336 0.08986664]\n",
      " [0.93812399 0.06187601]\n",
      " [0.92686506 0.07313494]\n",
      " [0.83321871 0.16678129]\n",
      " [0.92544301 0.07455699]\n",
      " [0.8975972  0.1024028 ]\n",
      " [0.76528753 0.23471247]\n",
      " [0.81748293 0.18251707]\n",
      " [0.2739937  0.7260063 ]\n",
      " [0.93124325 0.06875675]\n",
      " [0.88177853 0.11822147]\n",
      " [0.83052262 0.16947738]\n",
      " [0.99552304 0.00447696]\n",
      " [0.5783279  0.4216721 ]\n",
      " [0.44645386 0.55354614]\n",
      " [0.57439529 0.42560471]\n",
      " [0.77004332 0.22995668]\n",
      " [0.86818507 0.13181493]\n",
      " [0.90999145 0.09000855]\n",
      " [0.86275091 0.13724909]\n",
      " [0.71041507 0.28958493]\n",
      " [0.88522989 0.11477011]\n",
      " [0.95266294 0.04733706]\n",
      " [0.83582578 0.16417422]\n",
      " [0.65763443 0.34236557]\n",
      " [0.80436986 0.19563014]\n",
      " [0.78917968 0.21082032]\n",
      " [0.95033875 0.04966125]\n",
      " [0.7601661  0.2398339 ]\n",
      " [0.88970894 0.11029106]\n",
      " [0.8575109  0.1424891 ]\n",
      " [0.93402067 0.06597933]\n",
      " [0.80560066 0.19439934]\n",
      " [0.87820327 0.12179673]\n",
      " [0.89116212 0.10883788]\n",
      " [0.91014531 0.08985469]\n",
      " [0.54055715 0.45944285]\n",
      " [0.94073917 0.05926083]\n",
      " [0.79879102 0.20120898]\n",
      " [0.82504109 0.17495891]\n",
      " [0.99293891 0.00706109]\n",
      " [0.93337278 0.06662722]\n",
      " [0.96471498 0.03528502]\n",
      " [0.91195526 0.08804474]\n",
      " [0.92294802 0.07705198]\n",
      " [0.94458115 0.05541885]\n",
      " [0.93830416 0.06169584]\n",
      " [0.82203472 0.17796528]\n",
      " [0.90108491 0.09891509]\n",
      " [0.88110157 0.11889843]]\n"
     ]
    }
   ],
   "source": [
    "probs = LR_model.predict_proba(X_test)\n",
    "print (probs)"
   ]
  },
  {
   "cell_type": "code",
   "execution_count": 29,
   "id": "10234e4d",
   "metadata": {},
   "outputs": [
    {
     "name": "stdout",
     "output_type": "stream",
     "text": [
      "0.8333333333333334\n",
      "0.7299458558933778\n"
     ]
    }
   ],
   "source": [
    "from sklearn import metrics\n",
    "\n",
    "print (metrics.accuracy_score(y_test, predicted))\n",
    "print (metrics.roc_auc_score(y_test, probs[:, 1]))"
   ]
  },
  {
   "cell_type": "code",
   "execution_count": 30,
   "id": "bf0c8b72",
   "metadata": {},
   "outputs": [
    {
     "name": "stdout",
     "output_type": "stream",
     "text": [
      "[[243   2]\n",
      " [ 47   2]]\n",
      "              precision    recall  f1-score   support\n",
      "\n",
      "           0       0.84      0.99      0.91       245\n",
      "           1       0.50      0.04      0.08        49\n",
      "\n",
      "    accuracy                           0.83       294\n",
      "   macro avg       0.67      0.52      0.49       294\n",
      "weighted avg       0.78      0.83      0.77       294\n",
      "\n"
     ]
    }
   ],
   "source": [
    "print (metrics.confusion_matrix(y_test, predicted))\n",
    "print (metrics.classification_report(y_test, predicted))"
   ]
  }
 ],
 "metadata": {
  "kernelspec": {
   "display_name": "Python 3",
   "language": "python",
   "name": "python3"
  },
  "language_info": {
   "codemirror_mode": {
    "name": "ipython",
    "version": 3
   },
   "file_extension": ".py",
   "mimetype": "text/x-python",
   "name": "python",
   "nbconvert_exporter": "python",
   "pygments_lexer": "ipython3",
   "version": "3.8.8"
  }
 },
 "nbformat": 4,
 "nbformat_minor": 5
}
