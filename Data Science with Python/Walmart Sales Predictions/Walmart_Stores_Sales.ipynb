{
 "cells": [
  {
   "cell_type": "markdown",
   "id": "256751bb",
   "metadata": {},
   "source": [
    "# Retail Analysis with Walmart Data"
   ]
  },
  {
   "cell_type": "markdown",
   "id": "fe3bf9bb",
   "metadata": {},
   "source": [
    "**Objective :** In the US, Walmart store, would like to predict the sales and demand accurately."
   ]
  },
  {
   "cell_type": "markdown",
   "id": "6db2f89e",
   "metadata": {},
   "source": [
    "### Declare all necessary Libraries"
   ]
  },
  {
   "cell_type": "code",
   "execution_count": 1,
   "id": "95b45edf",
   "metadata": {},
   "outputs": [
    {
     "name": "stderr",
     "output_type": "stream",
     "text": [
      "\n",
      "Bad key \"text.kerning_factor\" on line 4 in\n",
      "C:\\Users\\nbhup\\Anaconda3\\lib\\site-packages\\matplotlib\\mpl-data\\stylelib\\_classic_test_patch.mplstyle.\n",
      "You probably need to get an updated matplotlibrc file from\n",
      "https://github.com/matplotlib/matplotlib/blob/v3.1.2/matplotlibrc.template\n",
      "or from the matplotlib source distribution\n"
     ]
    }
   ],
   "source": [
    "import pandas as pd\n",
    "import numpy as np\n",
    "\n",
    "import matplotlib.pyplot as plt\n",
    "\n",
    "from sklearn.model_selection import train_test_split\n",
    "\n",
    "import statsmodels.api as sm\n",
    "\n",
    "import warnings\n",
    "warnings.filterwarnings('ignore')"
   ]
  },
  {
   "cell_type": "code",
   "execution_count": 2,
   "id": "5f293956",
   "metadata": {},
   "outputs": [],
   "source": [
    "df = pd.read_csv('Walmart_Store_sales.csv', parse_dates=[\"Date\"], dayfirst=True)"
   ]
  },
  {
   "cell_type": "code",
   "execution_count": 3,
   "id": "899c7d48",
   "metadata": {},
   "outputs": [
    {
     "name": "stdout",
     "output_type": "stream",
     "text": [
      "<class 'pandas.core.frame.DataFrame'>\n",
      "RangeIndex: 6435 entries, 0 to 6434\n",
      "Data columns (total 8 columns):\n",
      " #   Column        Non-Null Count  Dtype         \n",
      "---  ------        --------------  -----         \n",
      " 0   Store         6435 non-null   int64         \n",
      " 1   Date          6435 non-null   datetime64[ns]\n",
      " 2   Weekly_Sales  6435 non-null   float64       \n",
      " 3   Holiday_Flag  6435 non-null   int64         \n",
      " 4   Temperature   6435 non-null   float64       \n",
      " 5   Fuel_Price    6435 non-null   float64       \n",
      " 6   CPI           6435 non-null   float64       \n",
      " 7   Unemployment  6435 non-null   float64       \n",
      "dtypes: datetime64[ns](1), float64(5), int64(2)\n",
      "memory usage: 402.3 KB\n"
     ]
    }
   ],
   "source": [
    "df.info()"
   ]
  },
  {
   "cell_type": "code",
   "execution_count": 4,
   "id": "39789f46",
   "metadata": {},
   "outputs": [
    {
     "data": {
      "text/html": [
       "<div>\n",
       "<style scoped>\n",
       "    .dataframe tbody tr th:only-of-type {\n",
       "        vertical-align: middle;\n",
       "    }\n",
       "\n",
       "    .dataframe tbody tr th {\n",
       "        vertical-align: top;\n",
       "    }\n",
       "\n",
       "    .dataframe thead th {\n",
       "        text-align: right;\n",
       "    }\n",
       "</style>\n",
       "<table border=\"1\" class=\"dataframe\">\n",
       "  <thead>\n",
       "    <tr style=\"text-align: right;\">\n",
       "      <th></th>\n",
       "      <th>Store</th>\n",
       "      <th>Weekly_Sales</th>\n",
       "      <th>Holiday_Flag</th>\n",
       "      <th>Temperature</th>\n",
       "      <th>Fuel_Price</th>\n",
       "      <th>CPI</th>\n",
       "      <th>Unemployment</th>\n",
       "    </tr>\n",
       "  </thead>\n",
       "  <tbody>\n",
       "    <tr>\n",
       "      <th>count</th>\n",
       "      <td>6435.000000</td>\n",
       "      <td>6.435000e+03</td>\n",
       "      <td>6435.000000</td>\n",
       "      <td>6435.000000</td>\n",
       "      <td>6435.000000</td>\n",
       "      <td>6435.000000</td>\n",
       "      <td>6435.000000</td>\n",
       "    </tr>\n",
       "    <tr>\n",
       "      <th>mean</th>\n",
       "      <td>23.000000</td>\n",
       "      <td>1.046965e+06</td>\n",
       "      <td>0.069930</td>\n",
       "      <td>60.663782</td>\n",
       "      <td>3.358607</td>\n",
       "      <td>171.578394</td>\n",
       "      <td>7.999151</td>\n",
       "    </tr>\n",
       "    <tr>\n",
       "      <th>std</th>\n",
       "      <td>12.988182</td>\n",
       "      <td>5.643666e+05</td>\n",
       "      <td>0.255049</td>\n",
       "      <td>18.444933</td>\n",
       "      <td>0.459020</td>\n",
       "      <td>39.356712</td>\n",
       "      <td>1.875885</td>\n",
       "    </tr>\n",
       "    <tr>\n",
       "      <th>min</th>\n",
       "      <td>1.000000</td>\n",
       "      <td>2.099862e+05</td>\n",
       "      <td>0.000000</td>\n",
       "      <td>-2.060000</td>\n",
       "      <td>2.472000</td>\n",
       "      <td>126.064000</td>\n",
       "      <td>3.879000</td>\n",
       "    </tr>\n",
       "    <tr>\n",
       "      <th>25%</th>\n",
       "      <td>12.000000</td>\n",
       "      <td>5.533501e+05</td>\n",
       "      <td>0.000000</td>\n",
       "      <td>47.460000</td>\n",
       "      <td>2.933000</td>\n",
       "      <td>131.735000</td>\n",
       "      <td>6.891000</td>\n",
       "    </tr>\n",
       "    <tr>\n",
       "      <th>50%</th>\n",
       "      <td>23.000000</td>\n",
       "      <td>9.607460e+05</td>\n",
       "      <td>0.000000</td>\n",
       "      <td>62.670000</td>\n",
       "      <td>3.445000</td>\n",
       "      <td>182.616521</td>\n",
       "      <td>7.874000</td>\n",
       "    </tr>\n",
       "    <tr>\n",
       "      <th>75%</th>\n",
       "      <td>34.000000</td>\n",
       "      <td>1.420159e+06</td>\n",
       "      <td>0.000000</td>\n",
       "      <td>74.940000</td>\n",
       "      <td>3.735000</td>\n",
       "      <td>212.743293</td>\n",
       "      <td>8.622000</td>\n",
       "    </tr>\n",
       "    <tr>\n",
       "      <th>max</th>\n",
       "      <td>45.000000</td>\n",
       "      <td>3.818686e+06</td>\n",
       "      <td>1.000000</td>\n",
       "      <td>100.140000</td>\n",
       "      <td>4.468000</td>\n",
       "      <td>227.232807</td>\n",
       "      <td>14.313000</td>\n",
       "    </tr>\n",
       "  </tbody>\n",
       "</table>\n",
       "</div>"
      ],
      "text/plain": [
       "             Store  Weekly_Sales  Holiday_Flag  Temperature   Fuel_Price  \\\n",
       "count  6435.000000  6.435000e+03   6435.000000  6435.000000  6435.000000   \n",
       "mean     23.000000  1.046965e+06      0.069930    60.663782     3.358607   \n",
       "std      12.988182  5.643666e+05      0.255049    18.444933     0.459020   \n",
       "min       1.000000  2.099862e+05      0.000000    -2.060000     2.472000   \n",
       "25%      12.000000  5.533501e+05      0.000000    47.460000     2.933000   \n",
       "50%      23.000000  9.607460e+05      0.000000    62.670000     3.445000   \n",
       "75%      34.000000  1.420159e+06      0.000000    74.940000     3.735000   \n",
       "max      45.000000  3.818686e+06      1.000000   100.140000     4.468000   \n",
       "\n",
       "               CPI  Unemployment  \n",
       "count  6435.000000   6435.000000  \n",
       "mean    171.578394      7.999151  \n",
       "std      39.356712      1.875885  \n",
       "min     126.064000      3.879000  \n",
       "25%     131.735000      6.891000  \n",
       "50%     182.616521      7.874000  \n",
       "75%     212.743293      8.622000  \n",
       "max     227.232807     14.313000  "
      ]
     },
     "execution_count": 4,
     "metadata": {},
     "output_type": "execute_result"
    }
   ],
   "source": [
    "df.describe()"
   ]
  },
  {
   "cell_type": "code",
   "execution_count": 5,
   "id": "562475d7",
   "metadata": {},
   "outputs": [
    {
     "data": {
      "text/plain": [
       "Store           0\n",
       "Date            0\n",
       "Weekly_Sales    0\n",
       "Holiday_Flag    0\n",
       "Temperature     0\n",
       "Fuel_Price      0\n",
       "CPI             0\n",
       "Unemployment    0\n",
       "dtype: int64"
      ]
     },
     "execution_count": 5,
     "metadata": {},
     "output_type": "execute_result"
    }
   ],
   "source": [
    "df.isnull().sum()"
   ]
  },
  {
   "cell_type": "code",
   "execution_count": 6,
   "id": "ad9df429",
   "metadata": {},
   "outputs": [
    {
     "data": {
      "text/plain": [
       "(6435, 8)"
      ]
     },
     "execution_count": 6,
     "metadata": {},
     "output_type": "execute_result"
    }
   ],
   "source": [
    "df.shape"
   ]
  },
  {
   "cell_type": "code",
   "execution_count": 7,
   "id": "b72ddb35",
   "metadata": {},
   "outputs": [],
   "source": [
    "# \n",
    "df[\"Year\"]= pd.DatetimeIndex(df[\"Date\"]).year\n",
    "df[\"Month\"]= pd.DatetimeIndex(df[\"Date\"]).month\n",
    "df[\"Day\"]= pd.DatetimeIndex(df[\"Date\"]).day"
   ]
  },
  {
   "cell_type": "code",
   "execution_count": 8,
   "id": "a6206ec0",
   "metadata": {},
   "outputs": [],
   "source": [
    "def def_quarter(dt_month):\n",
    "    if dt_month <= 3:\n",
    "        return pd.Series([\"Q1\", \"Semester1\"])\n",
    "    elif dt_month <= 6:\n",
    "        return pd.Series([\"Q2\", \"Semester1\"])\n",
    "    elif dt_month <= 9:\n",
    "        return pd.Series([\"Q3\", \"Semester2\"])\n",
    "    else:\n",
    "        return pd.Series([\"Q4\", \"Semester2\"])\n",
    "    \n",
    "df[[\"Quarter\", \"Semester\"]] = df.Month.apply(def_quarter)"
   ]
  },
  {
   "cell_type": "code",
   "execution_count": 9,
   "id": "c6ce3d33",
   "metadata": {},
   "outputs": [
    {
     "data": {
      "text/html": [
       "<div>\n",
       "<style scoped>\n",
       "    .dataframe tbody tr th:only-of-type {\n",
       "        vertical-align: middle;\n",
       "    }\n",
       "\n",
       "    .dataframe tbody tr th {\n",
       "        vertical-align: top;\n",
       "    }\n",
       "\n",
       "    .dataframe thead th {\n",
       "        text-align: right;\n",
       "    }\n",
       "</style>\n",
       "<table border=\"1\" class=\"dataframe\">\n",
       "  <thead>\n",
       "    <tr style=\"text-align: right;\">\n",
       "      <th></th>\n",
       "      <th>Store</th>\n",
       "      <th>Date</th>\n",
       "      <th>Weekly_Sales</th>\n",
       "      <th>Holiday_Flag</th>\n",
       "      <th>Temperature</th>\n",
       "      <th>Fuel_Price</th>\n",
       "      <th>CPI</th>\n",
       "      <th>Unemployment</th>\n",
       "      <th>Year</th>\n",
       "      <th>Month</th>\n",
       "      <th>Day</th>\n",
       "      <th>Quarter</th>\n",
       "      <th>Semester</th>\n",
       "    </tr>\n",
       "  </thead>\n",
       "  <tbody>\n",
       "    <tr>\n",
       "      <th>0</th>\n",
       "      <td>1</td>\n",
       "      <td>2010-02-05</td>\n",
       "      <td>1643690.90</td>\n",
       "      <td>0</td>\n",
       "      <td>42.31</td>\n",
       "      <td>2.572</td>\n",
       "      <td>211.096358</td>\n",
       "      <td>8.106</td>\n",
       "      <td>2010</td>\n",
       "      <td>2</td>\n",
       "      <td>5</td>\n",
       "      <td>Q1</td>\n",
       "      <td>Semester1</td>\n",
       "    </tr>\n",
       "    <tr>\n",
       "      <th>1</th>\n",
       "      <td>1</td>\n",
       "      <td>2010-02-12</td>\n",
       "      <td>1641957.44</td>\n",
       "      <td>1</td>\n",
       "      <td>38.51</td>\n",
       "      <td>2.548</td>\n",
       "      <td>211.242170</td>\n",
       "      <td>8.106</td>\n",
       "      <td>2010</td>\n",
       "      <td>2</td>\n",
       "      <td>12</td>\n",
       "      <td>Q1</td>\n",
       "      <td>Semester1</td>\n",
       "    </tr>\n",
       "    <tr>\n",
       "      <th>2</th>\n",
       "      <td>1</td>\n",
       "      <td>2010-02-19</td>\n",
       "      <td>1611968.17</td>\n",
       "      <td>0</td>\n",
       "      <td>39.93</td>\n",
       "      <td>2.514</td>\n",
       "      <td>211.289143</td>\n",
       "      <td>8.106</td>\n",
       "      <td>2010</td>\n",
       "      <td>2</td>\n",
       "      <td>19</td>\n",
       "      <td>Q1</td>\n",
       "      <td>Semester1</td>\n",
       "    </tr>\n",
       "    <tr>\n",
       "      <th>3</th>\n",
       "      <td>1</td>\n",
       "      <td>2010-02-26</td>\n",
       "      <td>1409727.59</td>\n",
       "      <td>0</td>\n",
       "      <td>46.63</td>\n",
       "      <td>2.561</td>\n",
       "      <td>211.319643</td>\n",
       "      <td>8.106</td>\n",
       "      <td>2010</td>\n",
       "      <td>2</td>\n",
       "      <td>26</td>\n",
       "      <td>Q1</td>\n",
       "      <td>Semester1</td>\n",
       "    </tr>\n",
       "    <tr>\n",
       "      <th>4</th>\n",
       "      <td>1</td>\n",
       "      <td>2010-03-05</td>\n",
       "      <td>1554806.68</td>\n",
       "      <td>0</td>\n",
       "      <td>46.50</td>\n",
       "      <td>2.625</td>\n",
       "      <td>211.350143</td>\n",
       "      <td>8.106</td>\n",
       "      <td>2010</td>\n",
       "      <td>3</td>\n",
       "      <td>5</td>\n",
       "      <td>Q1</td>\n",
       "      <td>Semester1</td>\n",
       "    </tr>\n",
       "  </tbody>\n",
       "</table>\n",
       "</div>"
      ],
      "text/plain": [
       "   Store       Date  Weekly_Sales  Holiday_Flag  Temperature  Fuel_Price  \\\n",
       "0      1 2010-02-05    1643690.90             0        42.31       2.572   \n",
       "1      1 2010-02-12    1641957.44             1        38.51       2.548   \n",
       "2      1 2010-02-19    1611968.17             0        39.93       2.514   \n",
       "3      1 2010-02-26    1409727.59             0        46.63       2.561   \n",
       "4      1 2010-03-05    1554806.68             0        46.50       2.625   \n",
       "\n",
       "          CPI  Unemployment  Year  Month  Day Quarter   Semester  \n",
       "0  211.096358         8.106  2010      2    5      Q1  Semester1  \n",
       "1  211.242170         8.106  2010      2   12      Q1  Semester1  \n",
       "2  211.289143         8.106  2010      2   19      Q1  Semester1  \n",
       "3  211.319643         8.106  2010      2   26      Q1  Semester1  \n",
       "4  211.350143         8.106  2010      3    5      Q1  Semester1  "
      ]
     },
     "execution_count": 9,
     "metadata": {},
     "output_type": "execute_result"
    }
   ],
   "source": [
    "df.head()"
   ]
  },
  {
   "cell_type": "markdown",
   "id": "fac08fbd",
   "metadata": {},
   "source": [
    "## Analysis Tasks"
   ]
  },
  {
   "cell_type": "markdown",
   "id": "5b2f4eed",
   "metadata": {},
   "source": [
    "### Basic statistics tasks"
   ]
  },
  {
   "cell_type": "markdown",
   "id": "d17135e7",
   "metadata": {},
   "source": [
    "**Basic statistics task#1 :** Which stores has maximum sales"
   ]
  },
  {
   "cell_type": "code",
   "execution_count": 10,
   "id": "30109d77",
   "metadata": {},
   "outputs": [
    {
     "data": {
      "text/plain": [
       "Store\n",
       "20    3.013978e+08\n",
       "Name: Weekly_Sales, dtype: float64"
      ]
     },
     "execution_count": 10,
     "metadata": {},
     "output_type": "execute_result"
    }
   ],
   "source": [
    "df.groupby('Store').sum()[\"Weekly_Sales\"].sort_values(ascending=False).head(1)"
   ]
  },
  {
   "cell_type": "markdown",
   "id": "26062a14",
   "metadata": {},
   "source": [
    "**Conclusion :** Stores 20 is doing maximum sales"
   ]
  },
  {
   "cell_type": "code",
   "execution_count": null,
   "id": "2b4d4028",
   "metadata": {},
   "outputs": [],
   "source": []
  },
  {
   "cell_type": "markdown",
   "id": "58205629",
   "metadata": {},
   "source": [
    "**Basic statistics task#2 :** Which store has maximum standard deviation i.e., the sales vary a lot. Also, find out the coefficient of mean to standard deviation"
   ]
  },
  {
   "cell_type": "code",
   "execution_count": 11,
   "id": "b3f67361",
   "metadata": {},
   "outputs": [
    {
     "data": {
      "text/plain": [
       "Store\n",
       "14    317569.949476\n",
       "Name: Weekly_Sales, dtype: float64"
      ]
     },
     "execution_count": 11,
     "metadata": {},
     "output_type": "execute_result"
    }
   ],
   "source": [
    "df.groupby('Store').std()[\"Weekly_Sales\"].sort_values(ascending=False).head(1)"
   ]
  },
  {
   "cell_type": "code",
   "execution_count": 12,
   "id": "6f558695",
   "metadata": {},
   "outputs": [
    {
     "data": {
      "text/plain": [
       "15.71"
      ]
     },
     "execution_count": 12,
     "metadata": {},
     "output_type": "execute_result"
    }
   ],
   "source": [
    "mean_14 = df.Weekly_Sales[df.Store == 14].mean()\n",
    "coeff_14 = (df.groupby('Store').std()[\"Weekly_Sales\"][14]/mean_14) * 100\n",
    "round(coeff_14,2)"
   ]
  },
  {
   "cell_type": "markdown",
   "id": "a04bf8d7",
   "metadata": {},
   "source": [
    "**Conclusion : ** There is a maximum Variance of sales in __store#14__ and coefficient of mean to standard deviation is __15.71__. "
   ]
  },
  {
   "cell_type": "code",
   "execution_count": null,
   "id": "9433bf7c",
   "metadata": {},
   "outputs": [],
   "source": []
  },
  {
   "cell_type": "markdown",
   "id": "3de73f74",
   "metadata": {},
   "source": [
    "**Basic statistics task#3 :** Which store/s has good quarterly growth rate in Q3’2012"
   ]
  },
  {
   "cell_type": "code",
   "execution_count": 13,
   "id": "b5fbffe0",
   "metadata": {},
   "outputs": [],
   "source": [
    "#Filter records with year 2012.\n",
    "#We require growth rate of Q3 as compared to Q2, so take only that subset.\n",
    "df_2012_Q2_Q3 = df[[\"Store\", \"Weekly_Sales\", \"Quarter\"]][(df.Year == 2012) & (df.Quarter.isin([\"Q2\", \"Q3\"]))]"
   ]
  },
  {
   "cell_type": "code",
   "execution_count": 14,
   "id": "ebe8f438",
   "metadata": {},
   "outputs": [],
   "source": [
    "#Aggregate the sum of Sales by Store and Quarter\n",
    "df_2012_Q2_Q3 = df_2012_Q2_Q3.groupby([\"Store\", \"Quarter\"]).sum().reset_index()"
   ]
  },
  {
   "cell_type": "code",
   "execution_count": 15,
   "id": "17254c3a",
   "metadata": {},
   "outputs": [],
   "source": [
    "#For comparison create a column for Q2_Sales by shifting records down\n",
    "df_2012_Q2_Q3[\"Q2_Weekly_Sales\"] = df_2012_Q2_Q3.Weekly_Sales.shift(1)\n",
    "df_2012_Q2_Q3 = df_2012_Q2_Q3[df_2012_Q2_Q3.Quarter == \"Q3\"]"
   ]
  },
  {
   "cell_type": "code",
   "execution_count": 16,
   "id": "5d3452ca",
   "metadata": {},
   "outputs": [
    {
     "data": {
      "text/html": [
       "<div>\n",
       "<style scoped>\n",
       "    .dataframe tbody tr th:only-of-type {\n",
       "        vertical-align: middle;\n",
       "    }\n",
       "\n",
       "    .dataframe tbody tr th {\n",
       "        vertical-align: top;\n",
       "    }\n",
       "\n",
       "    .dataframe thead th {\n",
       "        text-align: right;\n",
       "    }\n",
       "</style>\n",
       "<table border=\"1\" class=\"dataframe\">\n",
       "  <thead>\n",
       "    <tr style=\"text-align: right;\">\n",
       "      <th></th>\n",
       "      <th>Store</th>\n",
       "      <th>Quarter</th>\n",
       "      <th>Weekly_Sales</th>\n",
       "      <th>Q2_Weekly_Sales</th>\n",
       "      <th>Growth_Rate</th>\n",
       "    </tr>\n",
       "  </thead>\n",
       "  <tbody>\n",
       "    <tr>\n",
       "      <th>13</th>\n",
       "      <td>7</td>\n",
       "      <td>Q3</td>\n",
       "      <td>8262787.39</td>\n",
       "      <td>7290859.27</td>\n",
       "      <td>13.330776</td>\n",
       "    </tr>\n",
       "    <tr>\n",
       "      <th>31</th>\n",
       "      <td>16</td>\n",
       "      <td>Q3</td>\n",
       "      <td>7121541.64</td>\n",
       "      <td>6564335.98</td>\n",
       "      <td>8.488378</td>\n",
       "    </tr>\n",
       "    <tr>\n",
       "      <th>69</th>\n",
       "      <td>35</td>\n",
       "      <td>Q3</td>\n",
       "      <td>11322421.12</td>\n",
       "      <td>10838313.00</td>\n",
       "      <td>4.466637</td>\n",
       "    </tr>\n",
       "    <tr>\n",
       "      <th>51</th>\n",
       "      <td>26</td>\n",
       "      <td>Q3</td>\n",
       "      <td>13675691.91</td>\n",
       "      <td>13155335.57</td>\n",
       "      <td>3.955478</td>\n",
       "    </tr>\n",
       "    <tr>\n",
       "      <th>77</th>\n",
       "      <td>39</td>\n",
       "      <td>Q3</td>\n",
       "      <td>20715116.23</td>\n",
       "      <td>20214128.46</td>\n",
       "      <td>2.478404</td>\n",
       "    </tr>\n",
       "    <tr>\n",
       "      <th>81</th>\n",
       "      <td>41</td>\n",
       "      <td>Q3</td>\n",
       "      <td>18093844.01</td>\n",
       "      <td>17659942.73</td>\n",
       "      <td>2.456980</td>\n",
       "    </tr>\n",
       "    <tr>\n",
       "      <th>87</th>\n",
       "      <td>44</td>\n",
       "      <td>Q3</td>\n",
       "      <td>4411251.16</td>\n",
       "      <td>4306405.78</td>\n",
       "      <td>2.434638</td>\n",
       "    </tr>\n",
       "    <tr>\n",
       "      <th>47</th>\n",
       "      <td>24</td>\n",
       "      <td>Q3</td>\n",
       "      <td>17976377.72</td>\n",
       "      <td>17684218.91</td>\n",
       "      <td>1.652088</td>\n",
       "    </tr>\n",
       "    <tr>\n",
       "      <th>79</th>\n",
       "      <td>40</td>\n",
       "      <td>Q3</td>\n",
       "      <td>12873195.37</td>\n",
       "      <td>12727737.53</td>\n",
       "      <td>1.142841</td>\n",
       "    </tr>\n",
       "    <tr>\n",
       "      <th>45</th>\n",
       "      <td>23</td>\n",
       "      <td>Q3</td>\n",
       "      <td>18641489.15</td>\n",
       "      <td>18488882.82</td>\n",
       "      <td>0.825395</td>\n",
       "    </tr>\n",
       "    <tr>\n",
       "      <th>75</th>\n",
       "      <td>38</td>\n",
       "      <td>Q3</td>\n",
       "      <td>5605482.38</td>\n",
       "      <td>5637918.82</td>\n",
       "      <td>-0.575326</td>\n",
       "    </tr>\n",
       "  </tbody>\n",
       "</table>\n",
       "</div>"
      ],
      "text/plain": [
       "    Store Quarter  Weekly_Sales  Q2_Weekly_Sales  Growth_Rate\n",
       "13      7      Q3    8262787.39       7290859.27    13.330776\n",
       "31     16      Q3    7121541.64       6564335.98     8.488378\n",
       "69     35      Q3   11322421.12      10838313.00     4.466637\n",
       "51     26      Q3   13675691.91      13155335.57     3.955478\n",
       "77     39      Q3   20715116.23      20214128.46     2.478404\n",
       "81     41      Q3   18093844.01      17659942.73     2.456980\n",
       "87     44      Q3    4411251.16       4306405.78     2.434638\n",
       "47     24      Q3   17976377.72      17684218.91     1.652088\n",
       "79     40      Q3   12873195.37      12727737.53     1.142841\n",
       "45     23      Q3   18641489.15      18488882.82     0.825395\n",
       "75     38      Q3    5605482.38       5637918.82    -0.575326"
      ]
     },
     "execution_count": 16,
     "metadata": {},
     "output_type": "execute_result"
    }
   ],
   "source": [
    "#calculate Growth rate, note that only Q3 growth rates will be calculated correctly which is of our interest.\n",
    "df_2012_Q2_Q3[\"Growth_Rate\"] = (df_2012_Q2_Q3.Weekly_Sales - df_2012_Q2_Q3.Q2_Weekly_Sales) / df_2012_Q2_Q3.Q2_Weekly_Sales * 100\n",
    "df_2012_Q2_Q3.sort_values(ascending=False, by=\"Growth_Rate\").head(11)"
   ]
  },
  {
   "cell_type": "markdown",
   "id": "fbeba6d7",
   "metadata": {},
   "source": [
    "**Conclusion :** Stores **7, 16, 35, 26, 39, 41, 44, 24, 40 and 23** have positive quarterly growth rate in Q3’2012 and in given order."
   ]
  },
  {
   "cell_type": "code",
   "execution_count": null,
   "id": "d033b4bc",
   "metadata": {},
   "outputs": [],
   "source": []
  },
  {
   "cell_type": "markdown",
   "id": "74c6a7cf",
   "metadata": {},
   "source": [
    "**Basic statistics task#4 :** Some holidays have a negative impact on sales. Find out holidays which have higher sales than the mean sales in non-holiday season for all stores together"
   ]
  },
  {
   "cell_type": "code",
   "execution_count": 17,
   "id": "fb40c6e0",
   "metadata": {},
   "outputs": [
    {
     "data": {
      "text/plain": [
       "1041256.38"
      ]
     },
     "execution_count": 17,
     "metadata": {},
     "output_type": "execute_result"
    }
   ],
   "source": [
    "#Find the mean value of sales in non Holiday weeks\n",
    "non_holiday_mean_sales = np.round(df.Weekly_Sales[df.Holiday_Flag==0].mean(), 2)\n",
    "non_holiday_mean_sales"
   ]
  },
  {
   "cell_type": "code",
   "execution_count": 18,
   "id": "9e566b78",
   "metadata": {},
   "outputs": [
    {
     "data": {
      "text/html": [
       "<div>\n",
       "<style scoped>\n",
       "    .dataframe tbody tr th:only-of-type {\n",
       "        vertical-align: middle;\n",
       "    }\n",
       "\n",
       "    .dataframe tbody tr th {\n",
       "        vertical-align: top;\n",
       "    }\n",
       "\n",
       "    .dataframe thead th {\n",
       "        text-align: right;\n",
       "    }\n",
       "</style>\n",
       "<table border=\"1\" class=\"dataframe\">\n",
       "  <thead>\n",
       "    <tr style=\"text-align: right;\">\n",
       "      <th></th>\n",
       "      <th>Date</th>\n",
       "      <th>Weekly_Sales</th>\n",
       "    </tr>\n",
       "  </thead>\n",
       "  <tbody>\n",
       "    <tr>\n",
       "      <th>0</th>\n",
       "      <td>2010-02-12</td>\n",
       "      <td>1074148.39</td>\n",
       "    </tr>\n",
       "    <tr>\n",
       "      <th>2</th>\n",
       "      <td>2010-11-26</td>\n",
       "      <td>1462688.96</td>\n",
       "    </tr>\n",
       "    <tr>\n",
       "      <th>4</th>\n",
       "      <td>2011-02-11</td>\n",
       "      <td>1051915.40</td>\n",
       "    </tr>\n",
       "    <tr>\n",
       "      <th>6</th>\n",
       "      <td>2011-11-25</td>\n",
       "      <td>1479857.89</td>\n",
       "    </tr>\n",
       "    <tr>\n",
       "      <th>8</th>\n",
       "      <td>2012-02-10</td>\n",
       "      <td>1111320.18</td>\n",
       "    </tr>\n",
       "    <tr>\n",
       "      <th>9</th>\n",
       "      <td>2012-09-07</td>\n",
       "      <td>1074001.32</td>\n",
       "    </tr>\n",
       "  </tbody>\n",
       "</table>\n",
       "</div>"
      ],
      "text/plain": [
       "        Date  Weekly_Sales\n",
       "0 2010-02-12    1074148.39\n",
       "2 2010-11-26    1462688.96\n",
       "4 2011-02-11    1051915.40\n",
       "6 2011-11-25    1479857.89\n",
       "8 2012-02-10    1111320.18\n",
       "9 2012-09-07    1074001.32"
      ]
     },
     "execution_count": 18,
     "metadata": {},
     "output_type": "execute_result"
    }
   ],
   "source": [
    "df_holiday = df[(df.Holiday_Flag == 1)]\n",
    "df_holiday_mean_sales = np.round(df_holiday.groupby(\"Date\").mean()[[\"Weekly_Sales\"]],2).reset_index()\n",
    "df_holiday_mean_sales[df_holiday_mean_sales.Weekly_Sales >= non_holiday_mean_sales]"
   ]
  },
  {
   "cell_type": "markdown",
   "id": "3c69d988",
   "metadata": {},
   "source": [
    "**Conclusion :** <br>\n",
    "In the years __2010, 2011 and 2012 : Super Bowl Event__ crossed the mean sales.<br>\n",
    "In the year __2010 and 2011 : Thanks Giving Day__ crossed the mean sales.<br>\n",
    "And in the year __2012 : Labour Day__ crossed the mean sales."
   ]
  },
  {
   "cell_type": "code",
   "execution_count": null,
   "id": "798a416d",
   "metadata": {},
   "outputs": [],
   "source": []
  },
  {
   "cell_type": "markdown",
   "id": "bc61e4ec",
   "metadata": {},
   "source": [
    "**Basic statistics task#5 :** Provide a monthly and semester view of sales in units and give insights"
   ]
  },
  {
   "cell_type": "code",
   "execution_count": 19,
   "id": "16cb9d60",
   "metadata": {},
   "outputs": [],
   "source": [
    "df_month_sales = df.groupby(\"Month\").sum()[[\"Weekly_Sales\"]].reset_index()\n",
    "df_semester_sales = df.groupby(\"Semester\").sum()[[\"Weekly_Sales\"]].reset_index()"
   ]
  },
  {
   "cell_type": "code",
   "execution_count": 20,
   "id": "beaf7d71",
   "metadata": {},
   "outputs": [
    {
     "data": {
      "image/png": "[encoded data removed]",
      "text/plain": [
       "<Figure size 1224x720 with 2 Axes>"
      ]
     },
     "metadata": {},
     "output_type": "display_data"
    }
   ],
   "source": [
    "plt.figure(figsize=(17,10))\n",
    "plt.subplot(2, 1, 1) \n",
    "plt.bar(df_month_sales.Month, df_month_sales.Weekly_Sales)\n",
    "for x,y in zip(df_month_sales.Month, np.round(df_month_sales.Weekly_Sales,2)): \n",
    "    plt.text(x, y, str(y))\n",
    "plt.title(\"Monthly Sales\")\n",
    "plt.xlabel(\"Months\")\n",
    "plt.ylabel(\"Sales in Billions\")\n",
    "\n",
    "plt.subplot(2, 1, 2)\n",
    "plt.bar(df_semester_sales.Semester, df_semester_sales.Weekly_Sales)\n",
    "for x,y in zip(df_semester_sales.Semester, np.round(df_semester_sales.Weekly_Sales,2)): \n",
    "    plt.text(x, y, str(y))\n",
    "plt.title(\"Semester View of Sales\")\n",
    "plt.xlabel(\"Semesters\")\n",
    "plt.ylabel(\"Sales in Ten Billions\")\n",
    "plt.show()"
   ]
  },
  {
   "cell_type": "code",
   "execution_count": 21,
   "id": "a2fe257e",
   "metadata": {},
   "outputs": [
    {
     "data": {
      "text/html": [
       "<div>\n",
       "<style scoped>\n",
       "    .dataframe tbody tr th:only-of-type {\n",
       "        vertical-align: middle;\n",
       "    }\n",
       "\n",
       "    .dataframe tbody tr th {\n",
       "        vertical-align: top;\n",
       "    }\n",
       "\n",
       "    .dataframe thead th {\n",
       "        text-align: right;\n",
       "    }\n",
       "</style>\n",
       "<table border=\"1\" class=\"dataframe\">\n",
       "  <thead>\n",
       "    <tr style=\"text-align: right;\">\n",
       "      <th></th>\n",
       "      <th>Month</th>\n",
       "      <th>Weekly_Sales</th>\n",
       "    </tr>\n",
       "  </thead>\n",
       "  <tbody>\n",
       "    <tr>\n",
       "      <th>0</th>\n",
       "      <td>1</td>\n",
       "      <td>3.325984e+08</td>\n",
       "    </tr>\n",
       "    <tr>\n",
       "      <th>4</th>\n",
       "      <td>5</td>\n",
       "      <td>5.571256e+08</td>\n",
       "    </tr>\n",
       "    <tr>\n",
       "      <th>10</th>\n",
       "      <td>11</td>\n",
       "      <td>4.130157e+08</td>\n",
       "    </tr>\n",
       "  </tbody>\n",
       "</table>\n",
       "</div>"
      ],
      "text/plain": [
       "    Month  Weekly_Sales\n",
       "0       1  3.325984e+08\n",
       "4       5  5.571256e+08\n",
       "10     11  4.130157e+08"
      ]
     },
     "execution_count": 21,
     "metadata": {},
     "output_type": "execute_result"
    }
   ],
   "source": [
    "#Find the months having Sales less than the mean sales\n",
    "df_month_sales[df_month_sales.Weekly_Sales < df_month_sales.Weekly_Sales.mean()]"
   ]
  },
  {
   "cell_type": "markdown",
   "id": "72dd0bfb",
   "metadata": {},
   "source": [
    "**Conclusion :** <br>\n",
    "Month of **July** has the maximum sales whereas **Jan** has the least sales.\n",
    "Only 3 months **Jan, May and November** resulted in the decreased sales than the mean sales of 5.6 Billions.\n",
    "\n",
    "Semester wise **Semester2** ie Months **Jun to Dec** has contributed almost 10 Billion sales more than that was done in the first semester."
   ]
  },
  {
   "cell_type": "markdown",
   "id": "fcc8d7b9",
   "metadata": {},
   "source": [
    "## Statistical Model"
   ]
  },
  {
   "cell_type": "markdown",
   "id": "193abbe1",
   "metadata": {},
   "source": [
    "For Store 1 - Build prediction models to forecast demand"
   ]
  },
  {
   "cell_type": "code",
   "execution_count": 22,
   "id": "6938acc4",
   "metadata": {},
   "outputs": [],
   "source": [
    "df_store_1 = df[df.Store == 1]"
   ]
  },
  {
   "cell_type": "code",
   "execution_count": 23,
   "id": "73397fbe",
   "metadata": {},
   "outputs": [
    {
     "data": {
      "text/plain": [
       "(143, 13)"
      ]
     },
     "execution_count": 23,
     "metadata": {},
     "output_type": "execute_result"
    }
   ],
   "source": [
    "df_store_1.shape"
   ]
  },
  {
   "cell_type": "markdown",
   "id": "864365cb",
   "metadata": {},
   "source": [
    "Hypothesize if CPI, unemployment, and fuel price have any impact on sales"
   ]
  },
  {
   "cell_type": "code",
   "execution_count": 24,
   "id": "7bc42838",
   "metadata": {},
   "outputs": [],
   "source": [
    "selected_features = [\"CPI\", \"Unemployment\",\"Fuel_Price\"]\n",
    "X = df_store_1[selected_features]\n",
    "y = df_store_1.Weekly_Sales"
   ]
  },
  {
   "cell_type": "code",
   "execution_count": 25,
   "id": "e816f662",
   "metadata": {},
   "outputs": [],
   "source": [
    "train_X, test_X, train_y, test_y = train_test_split( X , y, train_size = 0.8, random_state = 42 )"
   ]
  },
  {
   "cell_type": "code",
   "execution_count": 26,
   "id": "a97f0ab3",
   "metadata": {},
   "outputs": [
    {
     "data": {
      "text/plain": [
       "((114,), (114, 3))"
      ]
     },
     "execution_count": 26,
     "metadata": {},
     "output_type": "execute_result"
    }
   ],
   "source": [
    "train_y.shape, train_X.shape"
   ]
  },
  {
   "cell_type": "code",
   "execution_count": 27,
   "id": "a910bb96",
   "metadata": {},
   "outputs": [
    {
     "data": {
      "text/html": [
       "<table class=\"simpletable\">\n",
       "<caption>OLS Regression Results</caption>\n",
       "<tr>\n",
       "  <th>Dep. Variable:</th>      <td>Weekly_Sales</td>   <th>  R-squared (uncentered):</th>      <td>   0.991</td> \n",
       "</tr>\n",
       "<tr>\n",
       "  <th>Model:</th>                   <td>OLS</td>       <th>  Adj. R-squared (uncentered):</th> <td>   0.990</td> \n",
       "</tr>\n",
       "<tr>\n",
       "  <th>Method:</th>             <td>Least Squares</td>  <th>  F-statistic:       </th>          <td>   3920.</td> \n",
       "</tr>\n",
       "<tr>\n",
       "  <th>Date:</th>             <td>Sat, 25 Sep 2021</td> <th>  Prob (F-statistic):</th>          <td>2.04e-112</td>\n",
       "</tr>\n",
       "<tr>\n",
       "  <th>Time:</th>                 <td>15:25:34</td>     <th>  Log-Likelihood:    </th>          <td> -1520.5</td> \n",
       "</tr>\n",
       "<tr>\n",
       "  <th>No. Observations:</th>      <td>   114</td>      <th>  AIC:               </th>          <td>   3047.</td> \n",
       "</tr>\n",
       "<tr>\n",
       "  <th>Df Residuals:</th>          <td>   111</td>      <th>  BIC:               </th>          <td>   3055.</td> \n",
       "</tr>\n",
       "<tr>\n",
       "  <th>Df Model:</th>              <td>     3</td>      <th>                     </th>              <td> </td>    \n",
       "</tr>\n",
       "<tr>\n",
       "  <th>Covariance Type:</th>      <td>nonrobust</td>    <th>                     </th>              <td> </td>    \n",
       "</tr>\n",
       "</table>\n",
       "<table class=\"simpletable\">\n",
       "<tr>\n",
       "        <td></td>          <th>coef</th>     <th>std err</th>      <th>t</th>      <th>P>|t|</th>  <th>[0.025</th>    <th>0.975]</th>  \n",
       "</tr>\n",
       "<tr>\n",
       "  <th>CPI</th>          <td> 7537.2120</td> <td> 1604.389</td> <td>    4.698</td> <td> 0.000</td> <td> 4358.007</td> <td> 1.07e+04</td>\n",
       "</tr>\n",
       "<tr>\n",
       "  <th>Unemployment</th> <td> 2862.9403</td> <td> 3.21e+04</td> <td>    0.089</td> <td> 0.929</td> <td>-6.08e+04</td> <td> 6.66e+04</td>\n",
       "</tr>\n",
       "<tr>\n",
       "  <th>Fuel_Price</th>   <td>-3.314e+04</td> <td> 4.55e+04</td> <td>   -0.728</td> <td> 0.468</td> <td>-1.23e+05</td> <td> 5.71e+04</td>\n",
       "</tr>\n",
       "</table>\n",
       "<table class=\"simpletable\">\n",
       "<tr>\n",
       "  <th>Omnibus:</th>       <td>93.327</td> <th>  Durbin-Watson:     </th> <td>   1.823</td> \n",
       "</tr>\n",
       "<tr>\n",
       "  <th>Prob(Omnibus):</th> <td> 0.000</td> <th>  Jarque-Bera (JB):  </th> <td> 830.125</td> \n",
       "</tr>\n",
       "<tr>\n",
       "  <th>Skew:</th>          <td> 2.733</td> <th>  Prob(JB):          </th> <td>5.50e-181</td>\n",
       "</tr>\n",
       "<tr>\n",
       "  <th>Kurtosis:</th>      <td>15.037</td> <th>  Cond. No.          </th> <td>    760.</td> \n",
       "</tr>\n",
       "</table><br/><br/>Notes:<br/>[1] R² is computed without centering (uncentered) since the model does not contain a constant.<br/>[2] Standard Errors assume that the covariance matrix of the errors is correctly specified."
      ],
      "text/plain": [
       "<class 'statsmodels.iolib.summary.Summary'>\n",
       "\"\"\"\n",
       "                                 OLS Regression Results                                \n",
       "=======================================================================================\n",
       "Dep. Variable:           Weekly_Sales   R-squared (uncentered):                   0.991\n",
       "Model:                            OLS   Adj. R-squared (uncentered):              0.990\n",
       "Method:                 Least Squares   F-statistic:                              3920.\n",
       "Date:                Sat, 25 Sep 2021   Prob (F-statistic):                   2.04e-112\n",
       "Time:                        15:25:34   Log-Likelihood:                         -1520.5\n",
       "No. Observations:                 114   AIC:                                      3047.\n",
       "Df Residuals:                     111   BIC:                                      3055.\n",
       "Df Model:                           3                                                  \n",
       "Covariance Type:            nonrobust                                                  \n",
       "================================================================================\n",
       "                   coef    std err          t      P>|t|      [0.025      0.975]\n",
       "--------------------------------------------------------------------------------\n",
       "CPI           7537.2120   1604.389      4.698      0.000    4358.007    1.07e+04\n",
       "Unemployment  2862.9403   3.21e+04      0.089      0.929   -6.08e+04    6.66e+04\n",
       "Fuel_Price   -3.314e+04   4.55e+04     -0.728      0.468   -1.23e+05    5.71e+04\n",
       "==============================================================================\n",
       "Omnibus:                       93.327   Durbin-Watson:                   1.823\n",
       "Prob(Omnibus):                  0.000   Jarque-Bera (JB):              830.125\n",
       "Skew:                           2.733   Prob(JB):                    5.50e-181\n",
       "Kurtosis:                      15.037   Cond. No.                         760.\n",
       "==============================================================================\n",
       "\n",
       "Notes:\n",
       "[1] R² is computed without centering (uncentered) since the model does not contain a constant.\n",
       "[2] Standard Errors assume that the covariance matrix of the errors is correctly specified.\n",
       "\"\"\""
      ]
     },
     "execution_count": 27,
     "metadata": {},
     "output_type": "execute_result"
    }
   ],
   "source": [
    "model_Store_1 = sm.OLS(train_y, train_X).fit()\n",
    "model_Store_1.summary()"
   ]
  },
  {
   "cell_type": "markdown",
   "id": "44148a6e",
   "metadata": {},
   "source": [
    "**Conclusion :** For Store 1\n",
    "- CPI seems to be good predictor of Sales.\n",
    "- Unemployment and Fuel Price are not good predictors of Sales"
   ]
  },
  {
   "cell_type": "code",
   "execution_count": null,
   "id": "ce46cb88",
   "metadata": {},
   "outputs": [],
   "source": []
  },
  {
   "cell_type": "markdown",
   "id": "fc2f6878",
   "metadata": {},
   "source": [
    "#### Model for Best Accuracy"
   ]
  },
  {
   "cell_type": "code",
   "execution_count": 28,
   "id": "84192a88",
   "metadata": {},
   "outputs": [
    {
     "data": {
      "text/html": [
       "<div>\n",
       "<style scoped>\n",
       "    .dataframe tbody tr th:only-of-type {\n",
       "        vertical-align: middle;\n",
       "    }\n",
       "\n",
       "    .dataframe tbody tr th {\n",
       "        vertical-align: top;\n",
       "    }\n",
       "\n",
       "    .dataframe thead th {\n",
       "        text-align: right;\n",
       "    }\n",
       "</style>\n",
       "<table border=\"1\" class=\"dataframe\">\n",
       "  <thead>\n",
       "    <tr style=\"text-align: right;\">\n",
       "      <th></th>\n",
       "      <th>Store</th>\n",
       "      <th>Date</th>\n",
       "      <th>Weekly_Sales</th>\n",
       "      <th>Holiday_Flag</th>\n",
       "      <th>Temperature</th>\n",
       "      <th>Fuel_Price</th>\n",
       "      <th>CPI</th>\n",
       "      <th>Unemployment</th>\n",
       "      <th>Year</th>\n",
       "      <th>Month</th>\n",
       "      <th>Day</th>\n",
       "      <th>Quarter</th>\n",
       "      <th>Semester</th>\n",
       "    </tr>\n",
       "  </thead>\n",
       "  <tbody>\n",
       "    <tr>\n",
       "      <th>0</th>\n",
       "      <td>1</td>\n",
       "      <td>2010-02-05</td>\n",
       "      <td>1643690.90</td>\n",
       "      <td>0</td>\n",
       "      <td>42.31</td>\n",
       "      <td>2.572</td>\n",
       "      <td>211.096358</td>\n",
       "      <td>8.106</td>\n",
       "      <td>2010</td>\n",
       "      <td>2</td>\n",
       "      <td>5</td>\n",
       "      <td>Q1</td>\n",
       "      <td>Semester1</td>\n",
       "    </tr>\n",
       "    <tr>\n",
       "      <th>1</th>\n",
       "      <td>1</td>\n",
       "      <td>2010-02-12</td>\n",
       "      <td>1641957.44</td>\n",
       "      <td>1</td>\n",
       "      <td>38.51</td>\n",
       "      <td>2.548</td>\n",
       "      <td>211.242170</td>\n",
       "      <td>8.106</td>\n",
       "      <td>2010</td>\n",
       "      <td>2</td>\n",
       "      <td>12</td>\n",
       "      <td>Q1</td>\n",
       "      <td>Semester1</td>\n",
       "    </tr>\n",
       "    <tr>\n",
       "      <th>2</th>\n",
       "      <td>1</td>\n",
       "      <td>2010-02-19</td>\n",
       "      <td>1611968.17</td>\n",
       "      <td>0</td>\n",
       "      <td>39.93</td>\n",
       "      <td>2.514</td>\n",
       "      <td>211.289143</td>\n",
       "      <td>8.106</td>\n",
       "      <td>2010</td>\n",
       "      <td>2</td>\n",
       "      <td>19</td>\n",
       "      <td>Q1</td>\n",
       "      <td>Semester1</td>\n",
       "    </tr>\n",
       "    <tr>\n",
       "      <th>3</th>\n",
       "      <td>1</td>\n",
       "      <td>2010-02-26</td>\n",
       "      <td>1409727.59</td>\n",
       "      <td>0</td>\n",
       "      <td>46.63</td>\n",
       "      <td>2.561</td>\n",
       "      <td>211.319643</td>\n",
       "      <td>8.106</td>\n",
       "      <td>2010</td>\n",
       "      <td>2</td>\n",
       "      <td>26</td>\n",
       "      <td>Q1</td>\n",
       "      <td>Semester1</td>\n",
       "    </tr>\n",
       "    <tr>\n",
       "      <th>4</th>\n",
       "      <td>1</td>\n",
       "      <td>2010-03-05</td>\n",
       "      <td>1554806.68</td>\n",
       "      <td>0</td>\n",
       "      <td>46.50</td>\n",
       "      <td>2.625</td>\n",
       "      <td>211.350143</td>\n",
       "      <td>8.106</td>\n",
       "      <td>2010</td>\n",
       "      <td>3</td>\n",
       "      <td>5</td>\n",
       "      <td>Q1</td>\n",
       "      <td>Semester1</td>\n",
       "    </tr>\n",
       "  </tbody>\n",
       "</table>\n",
       "</div>"
      ],
      "text/plain": [
       "   Store       Date  Weekly_Sales  Holiday_Flag  Temperature  Fuel_Price  \\\n",
       "0      1 2010-02-05    1643690.90             0        42.31       2.572   \n",
       "1      1 2010-02-12    1641957.44             1        38.51       2.548   \n",
       "2      1 2010-02-19    1611968.17             0        39.93       2.514   \n",
       "3      1 2010-02-26    1409727.59             0        46.63       2.561   \n",
       "4      1 2010-03-05    1554806.68             0        46.50       2.625   \n",
       "\n",
       "          CPI  Unemployment  Year  Month  Day Quarter   Semester  \n",
       "0  211.096358         8.106  2010      2    5      Q1  Semester1  \n",
       "1  211.242170         8.106  2010      2   12      Q1  Semester1  \n",
       "2  211.289143         8.106  2010      2   19      Q1  Semester1  \n",
       "3  211.319643         8.106  2010      2   26      Q1  Semester1  \n",
       "4  211.350143         8.106  2010      3    5      Q1  Semester1  "
      ]
     },
     "execution_count": 28,
     "metadata": {},
     "output_type": "execute_result"
    }
   ],
   "source": [
    "df.head()"
   ]
  },
  {
   "cell_type": "code",
   "execution_count": 29,
   "id": "74caa0ef",
   "metadata": {},
   "outputs": [],
   "source": [
    "#Categorical_Features\n",
    "categorical_features = ['Quarter', 'Semester']"
   ]
  },
  {
   "cell_type": "code",
   "execution_count": 30,
   "id": "8ea5d8f1",
   "metadata": {},
   "outputs": [],
   "source": [
    "df_encoded = pd.get_dummies( df,\n",
    "                              columns = categorical_features,\n",
    "                              drop_first = True )"
   ]
  },
  {
   "cell_type": "code",
   "execution_count": 31,
   "id": "40e91af9",
   "metadata": {},
   "outputs": [
    {
     "data": {
      "text/plain": [
       "Index(['Store', 'Date', 'Weekly_Sales', 'Holiday_Flag', 'Temperature',\n",
       "       'Fuel_Price', 'CPI', 'Unemployment', 'Year', 'Month', 'Day',\n",
       "       'Quarter_Q2', 'Quarter_Q3', 'Quarter_Q4', 'Semester_Semester2'],\n",
       "      dtype='object')"
      ]
     },
     "execution_count": 31,
     "metadata": {},
     "output_type": "execute_result"
    }
   ],
   "source": [
    "df_encoded.columns"
   ]
  },
  {
   "cell_type": "code",
   "execution_count": 32,
   "id": "5e6263b4",
   "metadata": {},
   "outputs": [],
   "source": [
    "selected_features = [\"Store\", \"Holiday_Flag\", \"Temperature\", \"Fuel_Price\", \"CPI\", \"Unemployment\", \"Year\", \"Month\",\n",
    "                     \"Day\", \"Quarter_Q2\", \"Quarter_Q3\", \"Quarter_Q4\", \"Semester_Semester2\"]\n",
    "X = df_encoded[selected_features]\n",
    "y = df_encoded.Weekly_Sales"
   ]
  },
  {
   "cell_type": "code",
   "execution_count": 33,
   "id": "8cc1dc4c",
   "metadata": {},
   "outputs": [],
   "source": [
    "train_X, test_X, train_y, test_y = train_test_split( X , y, train_size = 0.8, random_state = 42 )"
   ]
  },
  {
   "cell_type": "code",
   "execution_count": 34,
   "id": "04d837cf",
   "metadata": {},
   "outputs": [
    {
     "data": {
      "text/plain": [
       "((5148,), (5148, 13))"
      ]
     },
     "execution_count": 34,
     "metadata": {},
     "output_type": "execute_result"
    }
   ],
   "source": [
    "train_y.shape, train_X.shape"
   ]
  },
  {
   "cell_type": "code",
   "execution_count": 35,
   "id": "c036e720",
   "metadata": {},
   "outputs": [
    {
     "data": {
      "text/html": [
       "<table class=\"simpletable\">\n",
       "<caption>OLS Regression Results</caption>\n",
       "<tr>\n",
       "  <th>Dep. Variable:</th>      <td>Weekly_Sales</td>   <th>  R-squared (uncentered):</th>      <td>   0.808</td> \n",
       "</tr>\n",
       "<tr>\n",
       "  <th>Model:</th>                   <td>OLS</td>       <th>  Adj. R-squared (uncentered):</th> <td>   0.808</td> \n",
       "</tr>\n",
       "<tr>\n",
       "  <th>Method:</th>             <td>Least Squares</td>  <th>  F-statistic:       </th>          <td>   1806.</td> \n",
       "</tr>\n",
       "<tr>\n",
       "  <th>Date:</th>             <td>Sat, 25 Sep 2021</td> <th>  Prob (F-statistic):</th>           <td>  0.00</td>  \n",
       "</tr>\n",
       "<tr>\n",
       "  <th>Time:</th>                 <td>15:25:35</td>     <th>  Log-Likelihood:    </th>          <td> -75057.</td> \n",
       "</tr>\n",
       "<tr>\n",
       "  <th>No. Observations:</th>      <td>  5148</td>      <th>  AIC:               </th>          <td>1.501e+05</td>\n",
       "</tr>\n",
       "<tr>\n",
       "  <th>Df Residuals:</th>          <td>  5136</td>      <th>  BIC:               </th>          <td>1.502e+05</td>\n",
       "</tr>\n",
       "<tr>\n",
       "  <th>Df Model:</th>              <td>    12</td>      <th>                     </th>              <td> </td>    \n",
       "</tr>\n",
       "<tr>\n",
       "  <th>Covariance Type:</th>      <td>nonrobust</td>    <th>                     </th>              <td> </td>    \n",
       "</tr>\n",
       "</table>\n",
       "<table class=\"simpletable\">\n",
       "<tr>\n",
       "           <td></td>             <th>coef</th>     <th>std err</th>      <th>t</th>      <th>P>|t|</th>  <th>[0.025</th>    <th>0.975]</th>  \n",
       "</tr>\n",
       "<tr>\n",
       "  <th>Store</th>              <td>-1.512e+04</td> <td>  579.276</td> <td>  -26.105</td> <td> 0.000</td> <td>-1.63e+04</td> <td> -1.4e+04</td>\n",
       "</tr>\n",
       "<tr>\n",
       "  <th>Holiday_Flag</th>       <td> 3.837e+04</td> <td> 3.03e+04</td> <td>    1.267</td> <td> 0.205</td> <td> -2.1e+04</td> <td> 9.77e+04</td>\n",
       "</tr>\n",
       "<tr>\n",
       "  <th>Temperature</th>        <td>-1159.1799</td> <td>  611.277</td> <td>   -1.896</td> <td> 0.058</td> <td>-2357.544</td> <td>   39.184</td>\n",
       "</tr>\n",
       "<tr>\n",
       "  <th>Fuel_Price</th>         <td>  738.2305</td> <td> 1.69e+04</td> <td>    0.044</td> <td> 0.965</td> <td>-3.23e+04</td> <td> 3.38e+04</td>\n",
       "</tr>\n",
       "<tr>\n",
       "  <th>CPI</th>                <td>-2279.7965</td> <td>  211.011</td> <td>  -10.804</td> <td> 0.000</td> <td>-2693.469</td> <td>-1866.124</td>\n",
       "</tr>\n",
       "<tr>\n",
       "  <th>Unemployment</th>       <td>-2.333e+04</td> <td> 4305.596</td> <td>   -5.419</td> <td> 0.000</td> <td>-3.18e+04</td> <td>-1.49e+04</td>\n",
       "</tr>\n",
       "<tr>\n",
       "  <th>Year</th>               <td>  950.2481</td> <td>   43.632</td> <td>   21.779</td> <td> 0.000</td> <td>  864.711</td> <td> 1035.785</td>\n",
       "</tr>\n",
       "<tr>\n",
       "  <th>Month</th>              <td> 4.322e+04</td> <td> 8927.999</td> <td>    4.840</td> <td> 0.000</td> <td> 2.57e+04</td> <td> 6.07e+04</td>\n",
       "</tr>\n",
       "<tr>\n",
       "  <th>Day</th>                <td>-1485.8588</td> <td>  830.645</td> <td>   -1.789</td> <td> 0.074</td> <td>-3114.276</td> <td>  142.559</td>\n",
       "</tr>\n",
       "<tr>\n",
       "  <th>Quarter_Q2</th>         <td>-7.288e+04</td> <td>  3.5e+04</td> <td>   -2.083</td> <td> 0.037</td> <td>-1.41e+05</td> <td>-4277.546</td>\n",
       "</tr>\n",
       "<tr>\n",
       "  <th>Quarter_Q3</th>         <td>-4.499e+04</td> <td> 1.86e+04</td> <td>   -2.419</td> <td> 0.016</td> <td>-8.15e+04</td> <td>-8528.114</td>\n",
       "</tr>\n",
       "<tr>\n",
       "  <th>Quarter_Q4</th>         <td> -1.03e+05</td> <td> 3.71e+04</td> <td>   -2.778</td> <td> 0.005</td> <td>-1.76e+05</td> <td>-3.03e+04</td>\n",
       "</tr>\n",
       "<tr>\n",
       "  <th>Semester_Semester2</th> <td> -1.48e+05</td> <td> 4.55e+04</td> <td>   -3.255</td> <td> 0.001</td> <td>-2.37e+05</td> <td>-5.89e+04</td>\n",
       "</tr>\n",
       "</table>\n",
       "<table class=\"simpletable\">\n",
       "<tr>\n",
       "  <th>Omnibus:</th>       <td>120.116</td> <th>  Durbin-Watson:     </th> <td>   1.999</td>\n",
       "</tr>\n",
       "<tr>\n",
       "  <th>Prob(Omnibus):</th> <td> 0.000</td>  <th>  Jarque-Bera (JB):  </th> <td> 127.138</td>\n",
       "</tr>\n",
       "<tr>\n",
       "  <th>Skew:</th>          <td> 0.378</td>  <th>  Prob(JB):          </th> <td>2.47e-28</td>\n",
       "</tr>\n",
       "<tr>\n",
       "  <th>Kurtosis:</th>      <td> 2.857</td>  <th>  Cond. No.          </th> <td>2.65e+19</td>\n",
       "</tr>\n",
       "</table><br/><br/>Notes:<br/>[1] R² is computed without centering (uncentered) since the model does not contain a constant.<br/>[2] Standard Errors assume that the covariance matrix of the errors is correctly specified.<br/>[3] The smallest eigenvalue is  3e-29. This might indicate that there are<br/>strong multicollinearity problems or that the design matrix is singular."
      ],
      "text/plain": [
       "<class 'statsmodels.iolib.summary.Summary'>\n",
       "\"\"\"\n",
       "                                 OLS Regression Results                                \n",
       "=======================================================================================\n",
       "Dep. Variable:           Weekly_Sales   R-squared (uncentered):                   0.808\n",
       "Model:                            OLS   Adj. R-squared (uncentered):              0.808\n",
       "Method:                 Least Squares   F-statistic:                              1806.\n",
       "Date:                Sat, 25 Sep 2021   Prob (F-statistic):                        0.00\n",
       "Time:                        15:25:35   Log-Likelihood:                         -75057.\n",
       "No. Observations:                5148   AIC:                                  1.501e+05\n",
       "Df Residuals:                    5136   BIC:                                  1.502e+05\n",
       "Df Model:                          12                                                  \n",
       "Covariance Type:            nonrobust                                                  \n",
       "======================================================================================\n",
       "                         coef    std err          t      P>|t|      [0.025      0.975]\n",
       "--------------------------------------------------------------------------------------\n",
       "Store              -1.512e+04    579.276    -26.105      0.000   -1.63e+04    -1.4e+04\n",
       "Holiday_Flag        3.837e+04   3.03e+04      1.267      0.205    -2.1e+04    9.77e+04\n",
       "Temperature        -1159.1799    611.277     -1.896      0.058   -2357.544      39.184\n",
       "Fuel_Price           738.2305   1.69e+04      0.044      0.965   -3.23e+04    3.38e+04\n",
       "CPI                -2279.7965    211.011    -10.804      0.000   -2693.469   -1866.124\n",
       "Unemployment       -2.333e+04   4305.596     -5.419      0.000   -3.18e+04   -1.49e+04\n",
       "Year                 950.2481     43.632     21.779      0.000     864.711    1035.785\n",
       "Month               4.322e+04   8927.999      4.840      0.000    2.57e+04    6.07e+04\n",
       "Day                -1485.8588    830.645     -1.789      0.074   -3114.276     142.559\n",
       "Quarter_Q2         -7.288e+04    3.5e+04     -2.083      0.037   -1.41e+05   -4277.546\n",
       "Quarter_Q3         -4.499e+04   1.86e+04     -2.419      0.016   -8.15e+04   -8528.114\n",
       "Quarter_Q4          -1.03e+05   3.71e+04     -2.778      0.005   -1.76e+05   -3.03e+04\n",
       "Semester_Semester2  -1.48e+05   4.55e+04     -3.255      0.001   -2.37e+05   -5.89e+04\n",
       "==============================================================================\n",
       "Omnibus:                      120.116   Durbin-Watson:                   1.999\n",
       "Prob(Omnibus):                  0.000   Jarque-Bera (JB):              127.138\n",
       "Skew:                           0.378   Prob(JB):                     2.47e-28\n",
       "Kurtosis:                       2.857   Cond. No.                     2.65e+19\n",
       "==============================================================================\n",
       "\n",
       "Notes:\n",
       "[1] R² is computed without centering (uncentered) since the model does not contain a constant.\n",
       "[2] Standard Errors assume that the covariance matrix of the errors is correctly specified.\n",
       "[3] The smallest eigenvalue is  3e-29. This might indicate that there are\n",
       "strong multicollinearity problems or that the design matrix is singular.\n",
       "\"\"\""
      ]
     },
     "execution_count": 35,
     "metadata": {},
     "output_type": "execute_result"
    }
   ],
   "source": [
    "model_lr = sm.OLS(train_y, train_X).fit()\n",
    "model_lr.summary()"
   ]
  },
  {
   "cell_type": "markdown",
   "id": "b6ac9bb9",
   "metadata": {},
   "source": [
    "**Conclusion : **\n",
    "Adjusted R^2 is 0.808\n",
    "Based on p_value Holiday_Flag, Temperature, Fuel_Price, Day, Quarter_Q2 and Quarter_Q3 are not good predictors of Sales"
   ]
  },
  {
   "cell_type": "code",
   "execution_count": 36,
   "id": "07a36be0",
   "metadata": {},
   "outputs": [],
   "source": [
    "#Build the new model by excluding above attributes\n",
    "selected_features = [\"Store\", \"CPI\", \"Unemployment\", \"Year\", \"Month\", \"Quarter_Q4\", \"Semester_Semester2\"]\n",
    "X = df_encoded[selected_features]\n",
    "y = df_encoded.Weekly_Sales"
   ]
  },
  {
   "cell_type": "code",
   "execution_count": 37,
   "id": "69072da9",
   "metadata": {},
   "outputs": [],
   "source": [
    "train_X, test_X, train_y, test_y = train_test_split( X , y, train_size = 0.8, random_state = 42 )"
   ]
  },
  {
   "cell_type": "code",
   "execution_count": 38,
   "id": "32977876",
   "metadata": {},
   "outputs": [
    {
     "data": {
      "text/plain": [
       "((5148,), (5148, 7))"
      ]
     },
     "execution_count": 38,
     "metadata": {},
     "output_type": "execute_result"
    }
   ],
   "source": [
    "train_y.shape, train_X.shape"
   ]
  },
  {
   "cell_type": "code",
   "execution_count": 39,
   "id": "1e4475ff",
   "metadata": {},
   "outputs": [
    {
     "data": {
      "text/html": [
       "<table class=\"simpletable\">\n",
       "<caption>OLS Regression Results</caption>\n",
       "<tr>\n",
       "  <th>Dep. Variable:</th>      <td>Weekly_Sales</td>   <th>  R-squared (uncentered):</th>      <td>   0.808</td> \n",
       "</tr>\n",
       "<tr>\n",
       "  <th>Model:</th>                   <td>OLS</td>       <th>  Adj. R-squared (uncentered):</th> <td>   0.807</td> \n",
       "</tr>\n",
       "<tr>\n",
       "  <th>Method:</th>             <td>Least Squares</td>  <th>  F-statistic:       </th>          <td>   3083.</td> \n",
       "</tr>\n",
       "<tr>\n",
       "  <th>Date:</th>             <td>Sat, 25 Sep 2021</td> <th>  Prob (F-statistic):</th>           <td>  0.00</td>  \n",
       "</tr>\n",
       "<tr>\n",
       "  <th>Time:</th>                 <td>15:25:36</td>     <th>  Log-Likelihood:    </th>          <td> -75068.</td> \n",
       "</tr>\n",
       "<tr>\n",
       "  <th>No. Observations:</th>      <td>  5148</td>      <th>  AIC:               </th>          <td>1.501e+05</td>\n",
       "</tr>\n",
       "<tr>\n",
       "  <th>Df Residuals:</th>          <td>  5141</td>      <th>  BIC:               </th>          <td>1.502e+05</td>\n",
       "</tr>\n",
       "<tr>\n",
       "  <th>Df Model:</th>              <td>     7</td>      <th>                     </th>              <td> </td>    \n",
       "</tr>\n",
       "<tr>\n",
       "  <th>Covariance Type:</th>      <td>nonrobust</td>    <th>                     </th>              <td> </td>    \n",
       "</tr>\n",
       "</table>\n",
       "<table class=\"simpletable\">\n",
       "<tr>\n",
       "           <td></td>             <th>coef</th>     <th>std err</th>      <th>t</th>      <th>P>|t|</th>  <th>[0.025</th>    <th>0.975]</th>  \n",
       "</tr>\n",
       "<tr>\n",
       "  <th>Store</th>              <td>-1.511e+04</td> <td>  579.476</td> <td>  -26.078</td> <td> 0.000</td> <td>-1.62e+04</td> <td> -1.4e+04</td>\n",
       "</tr>\n",
       "<tr>\n",
       "  <th>CPI</th>                <td>-2406.2919</td> <td>  195.875</td> <td>  -12.285</td> <td> 0.000</td> <td>-2790.290</td> <td>-2022.294</td>\n",
       "</tr>\n",
       "<tr>\n",
       "  <th>Unemployment</th>       <td>-2.528e+04</td> <td> 4124.959</td> <td>   -6.127</td> <td> 0.000</td> <td>-3.34e+04</td> <td>-1.72e+04</td>\n",
       "</tr>\n",
       "<tr>\n",
       "  <th>Year</th>               <td>  945.6605</td> <td>   29.282</td> <td>   32.295</td> <td> 0.000</td> <td>  888.256</td> <td> 1003.065</td>\n",
       "</tr>\n",
       "<tr>\n",
       "  <th>Month</th>              <td> 2.253e+04</td> <td> 5628.680</td> <td>    4.003</td> <td> 0.000</td> <td> 1.15e+04</td> <td> 3.36e+04</td>\n",
       "</tr>\n",
       "<tr>\n",
       "  <th>Quarter_Q4</th>         <td> 3.488e+04</td> <td> 2.66e+04</td> <td>    1.311</td> <td> 0.190</td> <td>-1.73e+04</td> <td>  8.7e+04</td>\n",
       "</tr>\n",
       "<tr>\n",
       "  <th>Semester_Semester2</th> <td>-8.991e+04</td> <td> 2.97e+04</td> <td>   -3.029</td> <td> 0.002</td> <td>-1.48e+05</td> <td>-3.17e+04</td>\n",
       "</tr>\n",
       "</table>\n",
       "<table class=\"simpletable\">\n",
       "<tr>\n",
       "  <th>Omnibus:</th>       <td>125.300</td> <th>  Durbin-Watson:     </th> <td>   1.999</td>\n",
       "</tr>\n",
       "<tr>\n",
       "  <th>Prob(Omnibus):</th> <td> 0.000</td>  <th>  Jarque-Bera (JB):  </th> <td> 133.923</td>\n",
       "</tr>\n",
       "<tr>\n",
       "  <th>Skew:</th>          <td> 0.392</td>  <th>  Prob(JB):          </th> <td>8.30e-30</td>\n",
       "</tr>\n",
       "<tr>\n",
       "  <th>Kurtosis:</th>      <td> 2.906</td>  <th>  Cond. No.          </th> <td>9.01e+03</td>\n",
       "</tr>\n",
       "</table><br/><br/>Notes:<br/>[1] R² is computed without centering (uncentered) since the model does not contain a constant.<br/>[2] Standard Errors assume that the covariance matrix of the errors is correctly specified.<br/>[3] The condition number is large, 9.01e+03. This might indicate that there are<br/>strong multicollinearity or other numerical problems."
      ],
      "text/plain": [
       "<class 'statsmodels.iolib.summary.Summary'>\n",
       "\"\"\"\n",
       "                                 OLS Regression Results                                \n",
       "=======================================================================================\n",
       "Dep. Variable:           Weekly_Sales   R-squared (uncentered):                   0.808\n",
       "Model:                            OLS   Adj. R-squared (uncentered):              0.807\n",
       "Method:                 Least Squares   F-statistic:                              3083.\n",
       "Date:                Sat, 25 Sep 2021   Prob (F-statistic):                        0.00\n",
       "Time:                        15:25:36   Log-Likelihood:                         -75068.\n",
       "No. Observations:                5148   AIC:                                  1.501e+05\n",
       "Df Residuals:                    5141   BIC:                                  1.502e+05\n",
       "Df Model:                           7                                                  \n",
       "Covariance Type:            nonrobust                                                  \n",
       "======================================================================================\n",
       "                         coef    std err          t      P>|t|      [0.025      0.975]\n",
       "--------------------------------------------------------------------------------------\n",
       "Store              -1.511e+04    579.476    -26.078      0.000   -1.62e+04    -1.4e+04\n",
       "CPI                -2406.2919    195.875    -12.285      0.000   -2790.290   -2022.294\n",
       "Unemployment       -2.528e+04   4124.959     -6.127      0.000   -3.34e+04   -1.72e+04\n",
       "Year                 945.6605     29.282     32.295      0.000     888.256    1003.065\n",
       "Month               2.253e+04   5628.680      4.003      0.000    1.15e+04    3.36e+04\n",
       "Quarter_Q4          3.488e+04   2.66e+04      1.311      0.190   -1.73e+04     8.7e+04\n",
       "Semester_Semester2 -8.991e+04   2.97e+04     -3.029      0.002   -1.48e+05   -3.17e+04\n",
       "==============================================================================\n",
       "Omnibus:                      125.300   Durbin-Watson:                   1.999\n",
       "Prob(Omnibus):                  0.000   Jarque-Bera (JB):              133.923\n",
       "Skew:                           0.392   Prob(JB):                     8.30e-30\n",
       "Kurtosis:                       2.906   Cond. No.                     9.01e+03\n",
       "==============================================================================\n",
       "\n",
       "Notes:\n",
       "[1] R² is computed without centering (uncentered) since the model does not contain a constant.\n",
       "[2] Standard Errors assume that the covariance matrix of the errors is correctly specified.\n",
       "[3] The condition number is large, 9.01e+03. This might indicate that there are\n",
       "strong multicollinearity or other numerical problems.\n",
       "\"\"\""
      ]
     },
     "execution_count": 39,
     "metadata": {},
     "output_type": "execute_result"
    }
   ],
   "source": [
    "model_lr_1 = sm.OLS(train_y, train_X).fit()\n",
    "model_lr_1.summary()"
   ]
  },
  {
   "cell_type": "markdown",
   "id": "63d3f60c",
   "metadata": {},
   "source": [
    "**Conclusion : **\n",
    "Adjusted R^2 is 0.807 which is good compared to previous model\n",
    "Based on Quarter_Q4 is not a good predictor of Sales"
   ]
  },
  {
   "cell_type": "code",
   "execution_count": 40,
   "id": "de85f9dd",
   "metadata": {},
   "outputs": [],
   "source": [
    "#Build a new iterative model by removing Q4 from above\n",
    "selected_features = [\"Store\", \"CPI\", \"Unemployment\", \"Year\", \"Month\", \"Semester_Semester2\"]\n",
    "X = df_encoded[selected_features]\n",
    "y = df_encoded.Weekly_Sales"
   ]
  },
  {
   "cell_type": "code",
   "execution_count": 41,
   "id": "c758b173",
   "metadata": {},
   "outputs": [],
   "source": [
    "train_X, test_X, train_y, test_y = train_test_split( X , y, train_size = 0.8, random_state = 42 )"
   ]
  },
  {
   "cell_type": "code",
   "execution_count": 42,
   "id": "5dc744f0",
   "metadata": {},
   "outputs": [
    {
     "data": {
      "text/plain": [
       "((5148,), (5148, 6))"
      ]
     },
     "execution_count": 42,
     "metadata": {},
     "output_type": "execute_result"
    }
   ],
   "source": [
    "train_y.shape, train_X.shape"
   ]
  },
  {
   "cell_type": "code",
   "execution_count": 43,
   "id": "36b97e3b",
   "metadata": {},
   "outputs": [
    {
     "data": {
      "text/html": [
       "<table class=\"simpletable\">\n",
       "<caption>OLS Regression Results</caption>\n",
       "<tr>\n",
       "  <th>Dep. Variable:</th>      <td>Weekly_Sales</td>   <th>  R-squared (uncentered):</th>      <td>   0.808</td> \n",
       "</tr>\n",
       "<tr>\n",
       "  <th>Model:</th>                   <td>OLS</td>       <th>  Adj. R-squared (uncentered):</th> <td>   0.807</td> \n",
       "</tr>\n",
       "<tr>\n",
       "  <th>Method:</th>             <td>Least Squares</td>  <th>  F-statistic:       </th>          <td>   3596.</td> \n",
       "</tr>\n",
       "<tr>\n",
       "  <th>Date:</th>             <td>Sat, 25 Sep 2021</td> <th>  Prob (F-statistic):</th>           <td>  0.00</td>  \n",
       "</tr>\n",
       "<tr>\n",
       "  <th>Time:</th>                 <td>15:25:36</td>     <th>  Log-Likelihood:    </th>          <td> -75069.</td> \n",
       "</tr>\n",
       "<tr>\n",
       "  <th>No. Observations:</th>      <td>  5148</td>      <th>  AIC:               </th>          <td>1.501e+05</td>\n",
       "</tr>\n",
       "<tr>\n",
       "  <th>Df Residuals:</th>          <td>  5142</td>      <th>  BIC:               </th>          <td>1.502e+05</td>\n",
       "</tr>\n",
       "<tr>\n",
       "  <th>Df Model:</th>              <td>     6</td>      <th>                     </th>              <td> </td>    \n",
       "</tr>\n",
       "<tr>\n",
       "  <th>Covariance Type:</th>      <td>nonrobust</td>    <th>                     </th>              <td> </td>    \n",
       "</tr>\n",
       "</table>\n",
       "<table class=\"simpletable\">\n",
       "<tr>\n",
       "           <td></td>             <th>coef</th>     <th>std err</th>      <th>t</th>      <th>P>|t|</th>  <th>[0.025</th>    <th>0.975]</th>  \n",
       "</tr>\n",
       "<tr>\n",
       "  <th>Store</th>              <td>-1.511e+04</td> <td>  579.507</td> <td>  -26.069</td> <td> 0.000</td> <td>-1.62e+04</td> <td> -1.4e+04</td>\n",
       "</tr>\n",
       "<tr>\n",
       "  <th>CPI</th>                <td>-2408.6468</td> <td>  195.880</td> <td>  -12.297</td> <td> 0.000</td> <td>-2792.655</td> <td>-2024.638</td>\n",
       "</tr>\n",
       "<tr>\n",
       "  <th>Unemployment</th>       <td>-2.531e+04</td> <td> 4125.153</td> <td>   -6.136</td> <td> 0.000</td> <td>-3.34e+04</td> <td>-1.72e+04</td>\n",
       "</tr>\n",
       "<tr>\n",
       "  <th>Year</th>               <td>  937.6049</td> <td>   28.632</td> <td>   32.747</td> <td> 0.000</td> <td>  881.474</td> <td>  993.736</td>\n",
       "</tr>\n",
       "<tr>\n",
       "  <th>Month</th>              <td> 2.712e+04</td> <td> 4409.438</td> <td>    6.150</td> <td> 0.000</td> <td> 1.85e+04</td> <td> 3.58e+04</td>\n",
       "</tr>\n",
       "<tr>\n",
       "  <th>Semester_Semester2</th> <td>-1.004e+05</td> <td> 2.86e+04</td> <td>   -3.512</td> <td> 0.000</td> <td>-1.56e+05</td> <td>-4.44e+04</td>\n",
       "</tr>\n",
       "</table>\n",
       "<table class=\"simpletable\">\n",
       "<tr>\n",
       "  <th>Omnibus:</th>       <td>127.216</td> <th>  Durbin-Watson:     </th> <td>   1.999</td>\n",
       "</tr>\n",
       "<tr>\n",
       "  <th>Prob(Omnibus):</th> <td> 0.000</td>  <th>  Jarque-Bera (JB):  </th> <td> 136.259</td>\n",
       "</tr>\n",
       "<tr>\n",
       "  <th>Skew:</th>          <td> 0.397</td>  <th>  Prob(JB):          </th> <td>2.58e-30</td>\n",
       "</tr>\n",
       "<tr>\n",
       "  <th>Kurtosis:</th>      <td> 2.920</td>  <th>  Cond. No.          </th> <td>8.01e+03</td>\n",
       "</tr>\n",
       "</table><br/><br/>Notes:<br/>[1] R² is computed without centering (uncentered) since the model does not contain a constant.<br/>[2] Standard Errors assume that the covariance matrix of the errors is correctly specified.<br/>[3] The condition number is large, 8.01e+03. This might indicate that there are<br/>strong multicollinearity or other numerical problems."
      ],
      "text/plain": [
       "<class 'statsmodels.iolib.summary.Summary'>\n",
       "\"\"\"\n",
       "                                 OLS Regression Results                                \n",
       "=======================================================================================\n",
       "Dep. Variable:           Weekly_Sales   R-squared (uncentered):                   0.808\n",
       "Model:                            OLS   Adj. R-squared (uncentered):              0.807\n",
       "Method:                 Least Squares   F-statistic:                              3596.\n",
       "Date:                Sat, 25 Sep 2021   Prob (F-statistic):                        0.00\n",
       "Time:                        15:25:36   Log-Likelihood:                         -75069.\n",
       "No. Observations:                5148   AIC:                                  1.501e+05\n",
       "Df Residuals:                    5142   BIC:                                  1.502e+05\n",
       "Df Model:                           6                                                  \n",
       "Covariance Type:            nonrobust                                                  \n",
       "======================================================================================\n",
       "                         coef    std err          t      P>|t|      [0.025      0.975]\n",
       "--------------------------------------------------------------------------------------\n",
       "Store              -1.511e+04    579.507    -26.069      0.000   -1.62e+04    -1.4e+04\n",
       "CPI                -2408.6468    195.880    -12.297      0.000   -2792.655   -2024.638\n",
       "Unemployment       -2.531e+04   4125.153     -6.136      0.000   -3.34e+04   -1.72e+04\n",
       "Year                 937.6049     28.632     32.747      0.000     881.474     993.736\n",
       "Month               2.712e+04   4409.438      6.150      0.000    1.85e+04    3.58e+04\n",
       "Semester_Semester2 -1.004e+05   2.86e+04     -3.512      0.000   -1.56e+05   -4.44e+04\n",
       "==============================================================================\n",
       "Omnibus:                      127.216   Durbin-Watson:                   1.999\n",
       "Prob(Omnibus):                  0.000   Jarque-Bera (JB):              136.259\n",
       "Skew:                           0.397   Prob(JB):                     2.58e-30\n",
       "Kurtosis:                       2.920   Cond. No.                     8.01e+03\n",
       "==============================================================================\n",
       "\n",
       "Notes:\n",
       "[1] R² is computed without centering (uncentered) since the model does not contain a constant.\n",
       "[2] Standard Errors assume that the covariance matrix of the errors is correctly specified.\n",
       "[3] The condition number is large, 8.01e+03. This might indicate that there are\n",
       "strong multicollinearity or other numerical problems.\n",
       "\"\"\""
      ]
     },
     "execution_count": 43,
     "metadata": {},
     "output_type": "execute_result"
    }
   ],
   "source": [
    "model_lr_2 = sm.OLS(train_y, train_X).fit()\n",
    "model_lr_2.summary()"
   ]
  },
  {
   "cell_type": "markdown",
   "id": "27c82e54",
   "metadata": {},
   "source": [
    "**Conclusion : **\n",
    "Adjusted R^2 is 0.807 and this is our final model\n",
    "Based on p_values we can say that Store, CPI, Unemployment, Year, Month, Quarter_Q4 and Semester_Semester_2 are the best predictors of sales with the equation\n",
    "\n",
    "**Weekly Sales = 937.6049 \\* Year - 1.511e+04 \\* Store - 2408.6468 \\* CPI - 2.531e+04 \\* Unemployment + 2.712e+04 \\* Month - 1.004e+05 \\* Semester_Semester2**"
   ]
  },
  {
   "cell_type": "code",
   "execution_count": null,
   "id": "6564f7aa",
   "metadata": {},
   "outputs": [],
   "source": []
  }
 ],
 "metadata": {
  "kernelspec": {
   "display_name": "Python 3",
   "language": "python",
   "name": "python3"
  },
  "language_info": {
   "codemirror_mode": {
    "name": "ipython",
    "version": 3
   },
   "file_extension": ".py",
   "mimetype": "text/x-python",
   "name": "python",
   "nbconvert_exporter": "python",
   "pygments_lexer": "ipython3",
   "version": "3.8.8"
  }
 },
 "nbformat": 4,
 "nbformat_minor": 5
}
